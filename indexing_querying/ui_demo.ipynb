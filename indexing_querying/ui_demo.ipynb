{
 "cells": [
  {
   "cell_type": "markdown",
   "metadata": {},
   "source": [
    "UI Demo\n",
    "\n",
    "Can consider using Checkbutton to select if want to search by field, ascending/descending order etc"
   ]
  },
  {
   "cell_type": "code",
   "execution_count": 36,
   "metadata": {},
   "outputs": [],
   "source": [
    "import tkinter as tk\n",
    "import tkinter.ttk as ttk\n",
    "import requests\n",
    "from datetime import datetime"
   ]
  },
  {
   "cell_type": "code",
   "execution_count": 27,
   "metadata": {},
   "outputs": [],
   "source": [
    "solr_url = 'http://localhost:8983/solr'\n",
    "collection_name = 'restaurantCore'  "
   ]
  },
  {
   "cell_type": "code",
   "execution_count": 32,
   "metadata": {},
   "outputs": [],
   "source": [
    "def query_by_category_name(category_name, num_results=20):\n",
    "    # Define Solr query URL\n",
    "    query_url = f'{solr_url}/{collection_name}/select'\n",
    "    \n",
    "    # Define Solr query parameters\n",
    "    params = {\n",
    "        'q': f'categoryName:\"{category_name}\"',  # Filter by CategoryName\n",
    "        'group': 'true',  # Enable grouping\n",
    "        'group.field': 'restaurant',  # Group by restaurant field to avoid duplicates\n",
    "        'group.limit': 1,  # Limit to one document per group (top document for each restaurant)\n",
    "        'rows': num_results,  # Limit number of results\n",
    "        'debug': 'timing'  # Enable debug timing information\n",
    "    }\n",
    "\n",
    "    # Send GET request to Solr\n",
    "    response = requests.get(query_url, params=params)\n",
    "\n",
    "    # Check if request was successful (status code 200)\n",
    "    if response.status_code == 200:\n",
    "        # Parse JSON response\n",
    "        results = response.json()\n",
    "        grouped_results = results['grouped']['restaurant']['groups']\n",
    "        \n",
    "        # Get execution time from debug info\n",
    "        debug_info = results['debug']\n",
    "        execution_time = debug_info['timing']['time']\n",
    "\n",
    "        return response.status_code, execution_time, grouped_results\n",
    "\n",
    "    else:\n",
    "        return response.status_code, \"null\", \"null\""
   ]
  },
  {
   "cell_type": "code",
   "execution_count": 38,
   "metadata": {},
   "outputs": [],
   "source": [
    "window = tk.Tk()\n",
    "window.title(\"My Restaurant Search\")\n",
    "\n",
    "def display_query_results():\n",
    "    query = entry.get()\n",
    "    status, execution_time, grouped_results = query_by_category_name(query)\n",
    "    if status != 200:\n",
    "        # resp.configure(text=t)\n",
    "        ttk.Label(window, text=f\"Error: {status}\").grid(row=1, column=0)\n",
    "    else:\n",
    "        out = ttk.Label(window, text=f\"Top 20 results with CategoryName {query}\")\n",
    "        out.grid(row=2, column=0)\n",
    "        out = ttk.Label(window, text=f\"Execution Time: {execution_time} ms\")\n",
    "        out.grid(row=3, column=0)\n",
    "        i = 3\n",
    "        for group in grouped_results:\n",
    "            restaurant_doc = group['doclist']['docs'][0]\n",
    "            out = ttk.Label(window, text=f\"Restaurant: {restaurant_doc['restaurant']}, categoryName: {restaurant_doc['categoryName']}\")\n",
    "            out.grid(row=i+1, column=0)\n",
    "            i += 1\n",
    "\n",
    "prompt = ttk.Label(window, text=\"Input your query here: \")\n",
    "prompt.grid(row=0, column=0)\n",
    "\n",
    "entry = tk.Entry(window, width=60)\n",
    "entry.grid(row=0, column=1, padx=10, pady=10)\n",
    "\n",
    "# resp = tk.Label(window, text=\"\")\n",
    "# resp.grid(row=1, column=0)\n",
    "\n",
    "ttk.Button(window, text=\"Search\", width=20, command=display_query_results).grid(row=0, column=2)\n",
    "window.mainloop()"
   ]
  },
  {
   "cell_type": "code",
   "execution_count": null,
   "metadata": {},
   "outputs": [],
   "source": []
  }
 ],
 "metadata": {
  "kernelspec": {
   "display_name": ".venv",
   "language": "python",
   "name": "python3"
  },
  "language_info": {
   "codemirror_mode": {
    "name": "ipython",
    "version": 3
   },
   "file_extension": ".py",
   "mimetype": "text/x-python",
   "name": "python",
   "nbconvert_exporter": "python",
   "pygments_lexer": "ipython3",
   "version": "3.10.9"
  }
 },
 "nbformat": 4,
 "nbformat_minor": 2
}
