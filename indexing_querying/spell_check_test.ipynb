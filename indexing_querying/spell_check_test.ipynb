{
 "cells": [
  {
   "cell_type": "code",
   "execution_count": 2,
   "metadata": {},
   "outputs": [],
   "source": [
    "import requests"
   ]
  },
  {
   "cell_type": "code",
   "execution_count": 3,
   "metadata": {},
   "outputs": [
    {
     "name": "stdout",
     "output_type": "stream",
     "text": [
      "Top 10 results with CategoryName \"Chinese restaurant\":\n",
      "Execution Time: 106.0 ms\n",
      "\n",
      "Restaurant: 88 Seafood, categoryName: Chinese restaurant\n",
      "Restaurant: Song Hua Jiang Restaurant, categoryName: Chinese restaurant\n",
      "Restaurant: Hillman 99 Restaurant, categoryName: Chinese restaurant\n",
      "Restaurant: Crystal Jade Hong Kong Kitchen, categoryName: Chinese restaurant\n",
      "Restaurant: East Treasure Chinese Restaurant (東寶) Woods Square, categoryName: Chinese restaurant\n",
      "Restaurant: Weng Jia Cai 翁家菜, categoryName: Chinese restaurant\n",
      "Restaurant: Uncle Leong Signatures (FairPrice Hub), categoryName: Chinese restaurant\n",
      "Restaurant: Peach Garden @ Thomson Plaza, categoryName: Chinese restaurant\n",
      "Restaurant: Feng Shui Inn, categoryName: Chinese restaurant\n",
      "Restaurant: Paradise Classic, categoryName: Chinese restaurant\n"
     ]
    }
   ],
   "source": [
    "def query_by_category_name(solr_url, collection_name, category_name, num_results=10):\n",
    "    # Define Solr query URL\n",
    "    query_url = f'{solr_url}/{collection_name}/select'\n",
    "    \n",
    "    # Define Solr query parameters\n",
    "    params = {\n",
    "        'q': f'categoryName:\"{category_name}\"',  # Filter by CategoryName\n",
    "        'group': 'true',  # Enable grouping\n",
    "        'group.field': 'restaurant',  # Group by restaurant field to avoid duplicates\n",
    "        'group.limit': 1,  # Limit to one document per group (top document for each restaurant)\n",
    "        'rows': num_results,  # Limit number of results\n",
    "        'debug': 'timing'  # Enable debug timing information\n",
    "    }\n",
    "\n",
    "    # Send GET request to Solr\n",
    "    response = requests.get(query_url, params=params)\n",
    "\n",
    "    # Check if request was successful (status code 200)\n",
    "    if response.status_code == 200:\n",
    "        # Parse JSON response\n",
    "        results = response.json()\n",
    "        grouped_results = results['grouped']['restaurant']['groups']\n",
    "        \n",
    "        # Get execution time from debug info\n",
    "        debug_info = results['debug']\n",
    "        execution_time = debug_info['timing']['time']\n",
    "        \n",
    "        print(f'Top {num_results} results with CategoryName \"{category_name}\":')\n",
    "        print(f'Execution Time: {execution_time} ms\\n')\n",
    "        \n",
    "        # # Process grouped results and print documents\n",
    "        # for group in grouped_results:\n",
    "        #     restaurant_doc = group['doclist']['docs'][0]\n",
    "        #     print(restaurant_doc)\n",
    "\n",
    "        # Process grouped results and print top restaurants with category name\n",
    "        for group in grouped_results:\n",
    "            restaurant_doc = group['doclist']['docs'][0]\n",
    "            print(f\"Restaurant: {restaurant_doc['restaurant']}, categoryName: {category_name}\")\n",
    "    else:\n",
    "        print('Error:', response.status_code)\n",
    "\n",
    "# Example usage:\n",
    "solr_url = 'http://localhost:8983/solr'\n",
    "collection_name = 'restaurantCore'  # Replace with your actual collection name\n",
    "category_name = 'Chinese restaurant'  # Specify the CategoryName to filter by\n",
    "query_by_category_name(solr_url, collection_name, category_name)\n"
   ]
  },
  {
   "cell_type": "code",
   "execution_count": 4,
   "metadata": {},
   "outputs": [
    {
     "name": "stdout",
     "output_type": "stream",
     "text": [
      "Error: 500\n"
     ]
    }
   ],
   "source": [
    "import requests\n",
    "\n",
    "def query_spell_check(solr_url, collection_name, query_term):\n",
    "    # Define Solr query URL\n",
    "    query_url = f'{solr_url}/{collection_name}/spell'\n",
    "    \n",
    "    # Define Solr query parameters\n",
    "    params = {\n",
    "        'spellcheck.q': query_term,  # Query term for spell checking\n",
    "        'spellcheck': 'true',        # Enable spell checking\n",
    "    }\n",
    "\n",
    "    # Send GET request to Solr\n",
    "    response = requests.get(query_url, params=params)\n",
    "\n",
    "    # Check if request was successful (status code 200)\n",
    "    if response.status_code == 200:\n",
    "        # Parse JSON response\n",
    "        results = response.json()\n",
    "        print(\"Full response:\", results)  # Debug: Print full response\n",
    "    else:\n",
    "        print('Error:', response.status_code)\n",
    "\n",
    "# Example usage:\n",
    "solr_url = 'http://localhost:8983/solr'\n",
    "collection_name = 'restaurantCore'  # Replace with your actual collection name\n",
    "query_term = 'serice'  # Misspelled term for testing\n",
    "query_spell_check(solr_url, collection_name, query_term)\n"
   ]
  },
  {
   "cell_type": "code",
   "execution_count": null,
   "metadata": {},
   "outputs": [],
   "source": []
  }
 ],
 "metadata": {
  "kernelspec": {
   "display_name": "Python 3",
   "language": "python",
   "name": "python3"
  },
  "language_info": {
   "codemirror_mode": {
    "name": "ipython",
    "version": 3
   },
   "file_extension": ".py",
   "mimetype": "text/x-python",
   "name": "python",
   "nbconvert_exporter": "python",
   "pygments_lexer": "ipython3",
   "version": "3.9.18"
  }
 },
 "nbformat": 4,
 "nbformat_minor": 2
}
