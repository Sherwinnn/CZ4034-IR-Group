{
 "cells": [
  {
   "cell_type": "code",
   "execution_count": 126,
   "metadata": {},
   "outputs": [
    {
     "name": "stderr",
     "output_type": "stream",
     "text": [
      "[nltk_data] Downloading package punkt to\n",
      "[nltk_data]     C:\\Users\\limju\\AppData\\Roaming\\nltk_data...\n",
      "[nltk_data]   Package punkt is already up-to-date!\n",
      "[nltk_data] Downloading package stopwords to\n",
      "[nltk_data]     C:\\Users\\limju\\AppData\\Roaming\\nltk_data...\n",
      "[nltk_data]   Package stopwords is already up-to-date!\n"
     ]
    }
   ],
   "source": [
    "import pandas as pd\n",
    "import matplotlib.pyplot as plt\n",
    "import seaborn as sns\n",
    "import nltk\n",
    "from nltk.stem import WordNetLemmatizer\n",
    "from nltk.corpus import stopwords\n",
    "from nltk.tokenize import word_tokenize\n",
    "from nltk.stem import PorterStemmer\n",
    "from sklearn.feature_extraction.text import TfidfVectorizer\n",
    "import string\n",
    "import re\n",
    "from sklearn import svm\n",
    "from sklearn.model_selection import train_test_split\n",
    "nltk.download('punkt')\n",
    "nltk.download('stopwords')\n",
    "#from spellchecker import SpellChecker\n",
    "from sklearn.model_selection import cross_val_score, KFold\n",
    "from sklearn.svm import SVC\n",
    "from sklearn.utils import resample\n",
    "from nltk.corpus import wordnet\n",
    "from nltk.tokenize import word_tokenize\n",
    "from sklearn.metrics import f1_score\n",
    "from sklearn.model_selection import ParameterGrid\n",
    "from sklearn.model_selection import StratifiedKFold\n",
    "from sklearn.ensemble import RandomForestClassifier\n",
    "from sklearn.neighbors import KNeighborsClassifier\n",
    "from sklearn.naive_bayes import MultinomialNB\n",
    "from statistics import mean \n",
    "import contractions\n",
    "from sklearn.metrics import classification_report\n",
    "from time import time\n",
    "from sklearn.preprocessing import MinMaxScaler\n",
    "from sklearn.ensemble import StackingClassifier"
   ]
  },
  {
   "attachments": {},
   "cell_type": "markdown",
   "metadata": {},
   "source": [
    "### Load train data"
   ]
  },
  {
   "cell_type": "code",
   "execution_count": 98,
   "metadata": {},
   "outputs": [
    {
     "data": {
      "text/html": [
       "<div>\n",
       "<style scoped>\n",
       "    .dataframe tbody tr th:only-of-type {\n",
       "        vertical-align: middle;\n",
       "    }\n",
       "\n",
       "    .dataframe tbody tr th {\n",
       "        vertical-align: top;\n",
       "    }\n",
       "\n",
       "    .dataframe thead th {\n",
       "        text-align: right;\n",
       "    }\n",
       "</style>\n",
       "<table border=\"1\" class=\"dataframe\">\n",
       "  <thead>\n",
       "    <tr style=\"text-align: right;\">\n",
       "      <th></th>\n",
       "      <th>idx</th>\n",
       "      <th>title</th>\n",
       "      <th>stars</th>\n",
       "      <th>text</th>\n",
       "      <th>cleaned_text</th>\n",
       "      <th>subjectivity_score</th>\n",
       "      <th>polarity_score</th>\n",
       "    </tr>\n",
       "  </thead>\n",
       "  <tbody>\n",
       "    <tr>\n",
       "      <th>0</th>\n",
       "      <td>1</td>\n",
       "      <td>88 Seafood</td>\n",
       "      <td>5.0</td>\n",
       "      <td>This was my first time eating here. I can tell...</td>\n",
       "      <td>first time eat tell shd crayfish dish sooooooo...</td>\n",
       "      <td>0.434167</td>\n",
       "      <td>0.330795</td>\n",
       "    </tr>\n",
       "    <tr>\n",
       "      <th>1</th>\n",
       "      <td>2</td>\n",
       "      <td>88 Seafood</td>\n",
       "      <td>4.0</td>\n",
       "      <td>Considering that the dining area is next to a ...</td>\n",
       "      <td>consider din area be next prawn fish area migh...</td>\n",
       "      <td>0.385397</td>\n",
       "      <td>0.074921</td>\n",
       "    </tr>\n",
       "    <tr>\n",
       "      <th>2</th>\n",
       "      <td>3</td>\n",
       "      <td>88 Seafood</td>\n",
       "      <td>4.0</td>\n",
       "      <td>1st time came was 5 months ago. A decent Cze C...</td>\n",
       "      <td>st time come month ago decent cze char order c...</td>\n",
       "      <td>0.412037</td>\n",
       "      <td>0.186111</td>\n",
       "    </tr>\n",
       "    <tr>\n",
       "      <th>3</th>\n",
       "      <td>4</td>\n",
       "      <td>88 Seafood</td>\n",
       "      <td>5.0</td>\n",
       "      <td>First time experiencing prawning, we spend a g...</td>\n",
       "      <td>first time experience prawn spend good hr praw...</td>\n",
       "      <td>0.528030</td>\n",
       "      <td>0.183333</td>\n",
       "    </tr>\n",
       "    <tr>\n",
       "      <th>4</th>\n",
       "      <td>5</td>\n",
       "      <td>88 Seafood</td>\n",
       "      <td>4.0</td>\n",
       "      <td>Outgoing visit on Saturday, September 2023. Fi...</td>\n",
       "      <td>outgo visit saturday september fish shrimp cho...</td>\n",
       "      <td>0.377778</td>\n",
       "      <td>-0.138889</td>\n",
       "    </tr>\n",
       "  </tbody>\n",
       "</table>\n",
       "</div>"
      ],
      "text/plain": [
       "   idx       title  stars                                               text  \\\n",
       "0    1  88 Seafood    5.0  This was my first time eating here. I can tell...   \n",
       "1    2  88 Seafood    4.0  Considering that the dining area is next to a ...   \n",
       "2    3  88 Seafood    4.0  1st time came was 5 months ago. A decent Cze C...   \n",
       "3    4  88 Seafood    5.0  First time experiencing prawning, we spend a g...   \n",
       "4    5  88 Seafood    4.0  Outgoing visit on Saturday, September 2023. Fi...   \n",
       "\n",
       "                                        cleaned_text  subjectivity_score  \\\n",
       "0  first time eat tell shd crayfish dish sooooooo...            0.434167   \n",
       "1  consider din area be next prawn fish area migh...            0.385397   \n",
       "2  st time come month ago decent cze char order c...            0.412037   \n",
       "3  first time experience prawn spend good hr praw...            0.528030   \n",
       "4  outgo visit saturday september fish shrimp cho...            0.377778   \n",
       "\n",
       "   polarity_score  \n",
       "0        0.330795  \n",
       "1        0.074921  \n",
       "2        0.186111  \n",
       "3        0.183333  \n",
       "4       -0.138889  "
      ]
     },
     "execution_count": 98,
     "metadata": {},
     "output_type": "execute_result"
    }
   ],
   "source": [
    "#Read in cleaned train data\n",
    "train_df = pd.read_csv('train_data.csv')\n",
    "train_df = train_df.dropna(subset=['cleaned_text']).reset_index(drop=True)\n",
    "train_df['polarity_score'] = train_df['polarity_score'].astype(float)\n",
    "train_df['subjectivity_score'] = train_df['subjectivity_score'].astype(float)\n",
    "train_df['stars'] = train_df['stars'].astype(float)\n",
    "train_df['text'] = train_df['text'].astype(str)\n",
    "\n",
    "\n",
    "train_df.head()"
   ]
  },
  {
   "cell_type": "code",
   "execution_count": 99,
   "metadata": {},
   "outputs": [
    {
     "data": {
      "text/plain": [
       "<Axes: xlabel='stars', ylabel='count'>"
      ]
     },
     "execution_count": 99,
     "metadata": {},
     "output_type": "execute_result"
    },
    {
     "data": {
      "image/png": "[encoded data removed]",
      "text/plain": [
       "<Figure size 640x480 with 1 Axes>"
      ]
     },
     "metadata": {},
     "output_type": "display_data"
    }
   ],
   "source": [
    "sns.countplot(train_df, x=\"stars\")"
   ]
  },
  {
   "attachments": {},
   "cell_type": "markdown",
   "metadata": {},
   "source": [
    "### Load test data"
   ]
  },
  {
   "cell_type": "code",
   "execution_count": 100,
   "metadata": {},
   "outputs": [],
   "source": [
    "# Remove emojis \n",
    "def remove_emojis(data):\n",
    "    emoj = re.compile(\"[\"\n",
    "        u\"\\U0001F600-\\U0001F64F\"  \n",
    "        u\"\\U0001F300-\\U0001F5FF\"  \n",
    "        u\"\\U0001F680-\\U0001F6FF\"  \n",
    "        u\"\\U0001F1E0-\\U0001F1FF\" \n",
    "        u\"\\U00002500-\\U00002BEF\"  \n",
    "        u\"\\U00002702-\\U000027B0\"\n",
    "        u\"\\U00002702-\\U000027B0\"\n",
    "        u\"\\U000024C2-\\U0001F251\"\n",
    "        u\"\\U0001f926-\\U0001f937\"\n",
    "        u\"\\U00010000-\\U0010ffff\"\n",
    "        u\"\\u2640-\\u2642\" \n",
    "        u\"\\u2600-\\u2B55\"\n",
    "        u\"\\u200d\"\n",
    "        u\"\\u23cf\"\n",
    "        u\"\\u23e9\"\n",
    "        u\"\\u231a\"\n",
    "        u\"\\ufe0f\"  \n",
    "        u\"\\u3030\"\n",
    "                      \"]+\", re.UNICODE)\n",
    "    return re.sub(emoj, '', data)\n",
    "\n",
    "def remove_stopwords(reviews):\n",
    "    STOPWORDS = set(stopwords.words('english'))\n",
    "    custom_stopwords = {'not', 'is', 'but'}\n",
    "    STOPWORDS -= custom_stopwords\n",
    "    if STOPWORDS is None:\n",
    "        STOPWORDS = set(stopwords.words('english'))\n",
    "    # Split the reviews into words and remove stopwords\n",
    "    words = reviews.split()\n",
    "    words_filtered = [word for word in words if word not in STOPWORDS]\n",
    "    \n",
    "    # Join the filtered words back into a string\n",
    "    filtered_reviews = ' '.join(words_filtered)\n",
    "    \n",
    "    return filtered_reviews\n",
    "\n",
    "def remove_extra_whitespace(reviews):\n",
    "    return \" \".join(reviews.split())\n",
    "\n",
    "def get_wordnet_pos(text):\n",
    "    # Map POS tag to first character lemmatize() accepts\n",
    "    tags = nltk.pos_tag(text)\n",
    "    tag_dict = {\"J\": wordnet.ADJ,\n",
    "                \"N\": wordnet.NOUN,\n",
    "                \"V\": wordnet.VERB,\n",
    "                \"R\": wordnet.ADV}\n",
    "    tags = [tag_dict.get(tag[1][0],  wordnet.NOUN) for tag in tags]\n",
    "    return tags\n",
    "\n",
    "def lemmaSentence(reviews):\n",
    "    lemmatizer = WordNetLemmatizer()\n",
    "    lemma_text = ''\n",
    "    tok_text = word_tokenize(reviews)\n",
    "    tags = get_wordnet_pos(tok_text)\n",
    "    for i in range(len(tok_text)):\n",
    "        lemma_text = lemma_text + ' ' + lemmatizer.lemmatize(tok_text[i], tags[i])\n",
    "    return lemma_text[1:]\n",
    "\n",
    "def lower_case(review):\n",
    "    return review.lower()\n",
    "\n",
    "# change contraction words such sa I'm = I am, shouldn't = should not\n",
    "def change_contractions(review):\n",
    "    \n",
    "    expanded_words = [contractions.fix(word) for word in review.split()]\n",
    "\n",
    "    expanded_review = ' '.join(expanded_words)\n",
    "    return expanded_review\n",
    "\n",
    "# Remove Punctuations\n",
    "def remove_punctuations(review):\n",
    "    \n",
    "    new_review = review.translate(str.maketrans('', '', string.punctuation))\n",
    "    return new_review\n",
    "\n",
    "# Remove numbers\n",
    "def remove_numbers(review):\n",
    "    \n",
    "    mapping = str.maketrans('', '', string.digits)\n",
    "    new_review = review.translate(mapping)\n",
    "    \n",
    "    return new_review\n",
    "\n",
    "\n",
    "def clean_text(data):\n",
    "\n",
    "    data = data.apply(lower_case)\n",
    "    data = data.apply(change_contractions)\n",
    "    data = data.apply(remove_emojis)\n",
    "    data = data.apply(remove_punctuations)\n",
    "    data = data.apply(remove_numbers)\n",
    "    data = data.apply(remove_stopwords)\n",
    "    data = data.apply(remove_extra_whitespace)\n",
    "    data = data.apply(lemmaSentence)\n",
    "    \n",
    "    return data\n",
    "\n",
    "def clean_text_withstopword(data):\n",
    "\n",
    "    data = data.apply(lower_case)\n",
    "    data = data.apply(change_contractions)\n",
    "    data = data.apply(remove_emojis)\n",
    "    data = data.apply(remove_punctuations)\n",
    "    data = data.apply(remove_numbers)\n",
    "    #data = data.apply(remove_stopwords)\n",
    "    data = data.apply(remove_extra_whitespace)\n",
    "    data = data.apply(lemmaSentence)\n",
    "    \n",
    "    return data"
   ]
  },
  {
   "cell_type": "code",
   "execution_count": 101,
   "metadata": {},
   "outputs": [],
   "source": [
    "testdf = pd.read_csv(\"test_data.csv\")"
   ]
  },
  {
   "cell_type": "code",
   "execution_count": 102,
   "metadata": {},
   "outputs": [],
   "source": [
    "testdf['cleaned_text'] = clean_text(testdf.text)\n",
    "def anno2binary(text):\n",
    "    if text=='POSITIVE':\n",
    "        return 1\n",
    "    else:\n",
    "        return 0\n",
    "testdf['Binary_anno'] = testdf.Polarity_Anno1.apply(anno2binary)"
   ]
  },
  {
   "attachments": {},
   "cell_type": "markdown",
   "metadata": {},
   "source": [
    "### Assign polarity to train data\n",
    "- Stars 4 and above, positive\n"
   ]
  },
  {
   "cell_type": "code",
   "execution_count": 103,
   "metadata": {},
   "outputs": [],
   "source": [
    "#assign positive/negative labels method 1\n",
    "train_df['sentiment'] = 0\n",
    "train_df.loc[train_df['stars'] >=4, 'sentiment'] = 1 #positive"
   ]
  },
  {
   "cell_type": "code",
   "execution_count": 104,
   "metadata": {},
   "outputs": [],
   "source": [
    "train_df_X = train_df['cleaned_text']\n",
    "train_df_y = train_df['sentiment']"
   ]
  },
  {
   "cell_type": "code",
   "execution_count": 105,
   "metadata": {},
   "outputs": [],
   "source": [
    "# Run this if you want stemmed instead of lemmatized words\n",
    "def stemSentence(reviews):\n",
    "    stemmer = PorterStemmer()\n",
    "    stem_text = ''\n",
    "    tok_text = word_tokenize(reviews)\n",
    "    for i in range(len(tok_text)):\n",
    "        stem_text = stem_text + ' ' + stemmer.stem(tok_text[i])\n",
    "    return stem_text[1:]\n",
    "\n",
    "train_df_X = train_df_X.apply(stemSentence)"
   ]
  },
  {
   "cell_type": "code",
   "execution_count": 106,
   "metadata": {},
   "outputs": [
    {
     "data": {
      "text/plain": [
       "<Axes: xlabel='sentiment', ylabel='count'>"
      ]
     },
     "execution_count": 106,
     "metadata": {},
     "output_type": "execute_result"
    },
    {
     "data": {
      "image/png": "[encoded data removed]",
      "text/plain": [
       "<Figure size 640x480 with 1 Axes>"
      ]
     },
     "metadata": {},
     "output_type": "display_data"
    }
   ],
   "source": [
    "#visualize distribution. We must balance.\n",
    "sns.countplot(train_df, x=\"sentiment\")"
   ]
  },
  {
   "attachments": {},
   "cell_type": "markdown",
   "metadata": {},
   "source": [
    "### Classification\n"
   ]
  },
  {
   "cell_type": "code",
   "execution_count": 107,
   "metadata": {},
   "outputs": [
    {
     "name": "stdout",
     "output_type": "stream",
     "text": [
      "Key with maximum value: c\n",
      "Maximum value: 20\n"
     ]
    }
   ],
   "source": [
    "def max_key_for_max_value(dictionary):\n",
    "    if not dictionary:  # If the dictionary is empty\n",
    "        return None, None\n",
    "\n",
    "    max_value = max(dictionary.values())  # Find the maximum value in the dictionary\n",
    "    max_key = None\n",
    "\n",
    "    for key, value in dictionary.items():\n",
    "        if value == max_value:\n",
    "            max_key = key\n",
    "\n",
    "    return max_key, max_value\n",
    "\n",
    "# Example usage:\n",
    "my_dict = {'a': 10, 'b': 20, 'c': 20, 'd': 15}\n",
    "max_key, max_value = max_key_for_max_value(my_dict)\n",
    "print(\"Key with maximum value:\", max_key)\n",
    "print(\"Maximum value:\", max_value)\n"
   ]
  },
  {
   "attachments": {},
   "cell_type": "markdown",
   "metadata": {},
   "source": [
    "### Model 1: TFIDF + SVM"
   ]
  },
  {
   "cell_type": "code",
   "execution_count": 108,
   "metadata": {},
   "outputs": [
    {
     "name": "stdout",
     "output_type": "stream",
     "text": [
      "{'C': 0.5, 'gamma': 'scale', 'kernel': 'rbf'}\n",
      "{'C': 0.5, 'gamma': 'auto', 'kernel': 'rbf'}\n",
      "{'C': 1, 'gamma': 'scale', 'kernel': 'rbf'}\n",
      "{'C': 1, 'gamma': 'auto', 'kernel': 'rbf'}\n",
      "{'C': 5, 'gamma': 'scale', 'kernel': 'rbf'}\n"
     ]
    },
    {
     "ename": "KeyboardInterrupt",
     "evalue": "",
     "output_type": "error",
     "traceback": [
      "\u001b[1;31m---------------------------------------------------------------------------\u001b[0m",
      "\u001b[1;31mKeyboardInterrupt\u001b[0m                         Traceback (most recent call last)",
      "Cell \u001b[1;32mIn[108], line 41\u001b[0m\n\u001b[0;32m     38\u001b[0m svc \u001b[38;5;241m=\u001b[39m svm\u001b[38;5;241m.\u001b[39mSVC(\u001b[38;5;241m*\u001b[39m\u001b[38;5;241m*\u001b[39mparam)\n\u001b[0;32m     39\u001b[0m svc\u001b[38;5;241m.\u001b[39mfit(X_train_vector, y_train_balanced)\n\u001b[1;32m---> 41\u001b[0m y_pred \u001b[38;5;241m=\u001b[39m \u001b[43msvc\u001b[49m\u001b[38;5;241;43m.\u001b[39;49m\u001b[43mpredict\u001b[49m\u001b[43m(\u001b[49m\u001b[43mX_test_vector\u001b[49m\u001b[43m)\u001b[49m\n\u001b[0;32m     43\u001b[0m f1 \u001b[38;5;241m=\u001b[39m f1_score(y_test, y_pred, average\u001b[38;5;241m=\u001b[39m\u001b[38;5;124m'\u001b[39m\u001b[38;5;124mmacro\u001b[39m\u001b[38;5;124m'\u001b[39m)\n\u001b[0;32m     44\u001b[0m param_f1\u001b[38;5;241m.\u001b[39mappend(f1)\n",
      "File \u001b[1;32mc:\\Users\\limju\\anaconda3\\lib\\site-packages\\sklearn\\svm\\_base.py:820\u001b[0m, in \u001b[0;36mBaseSVC.predict\u001b[1;34m(self, X)\u001b[0m\n\u001b[0;32m    818\u001b[0m     y \u001b[38;5;241m=\u001b[39m np\u001b[38;5;241m.\u001b[39margmax(\u001b[38;5;28mself\u001b[39m\u001b[38;5;241m.\u001b[39mdecision_function(X), axis\u001b[38;5;241m=\u001b[39m\u001b[38;5;241m1\u001b[39m)\n\u001b[0;32m    819\u001b[0m \u001b[38;5;28;01melse\u001b[39;00m:\n\u001b[1;32m--> 820\u001b[0m     y \u001b[38;5;241m=\u001b[39m \u001b[38;5;28;43msuper\u001b[39;49m\u001b[43m(\u001b[49m\u001b[43m)\u001b[49m\u001b[38;5;241;43m.\u001b[39;49m\u001b[43mpredict\u001b[49m\u001b[43m(\u001b[49m\u001b[43mX\u001b[49m\u001b[43m)\u001b[49m\n\u001b[0;32m    821\u001b[0m \u001b[38;5;28;01mreturn\u001b[39;00m \u001b[38;5;28mself\u001b[39m\u001b[38;5;241m.\u001b[39mclasses_\u001b[38;5;241m.\u001b[39mtake(np\u001b[38;5;241m.\u001b[39masarray(y, dtype\u001b[38;5;241m=\u001b[39mnp\u001b[38;5;241m.\u001b[39mintp))\n",
      "File \u001b[1;32mc:\\Users\\limju\\anaconda3\\lib\\site-packages\\sklearn\\svm\\_base.py:435\u001b[0m, in \u001b[0;36mBaseLibSVM.predict\u001b[1;34m(self, X)\u001b[0m\n\u001b[0;32m    433\u001b[0m X \u001b[38;5;241m=\u001b[39m \u001b[38;5;28mself\u001b[39m\u001b[38;5;241m.\u001b[39m_validate_for_predict(X)\n\u001b[0;32m    434\u001b[0m predict \u001b[38;5;241m=\u001b[39m \u001b[38;5;28mself\u001b[39m\u001b[38;5;241m.\u001b[39m_sparse_predict \u001b[38;5;28;01mif\u001b[39;00m \u001b[38;5;28mself\u001b[39m\u001b[38;5;241m.\u001b[39m_sparse \u001b[38;5;28;01melse\u001b[39;00m \u001b[38;5;28mself\u001b[39m\u001b[38;5;241m.\u001b[39m_dense_predict\n\u001b[1;32m--> 435\u001b[0m \u001b[38;5;28;01mreturn\u001b[39;00m \u001b[43mpredict\u001b[49m\u001b[43m(\u001b[49m\u001b[43mX\u001b[49m\u001b[43m)\u001b[49m\n",
      "File \u001b[1;32mc:\\Users\\limju\\anaconda3\\lib\\site-packages\\sklearn\\svm\\_base.py:481\u001b[0m, in \u001b[0;36mBaseLibSVM._sparse_predict\u001b[1;34m(self, X)\u001b[0m\n\u001b[0;32m    477\u001b[0m kernel_type \u001b[38;5;241m=\u001b[39m \u001b[38;5;28mself\u001b[39m\u001b[38;5;241m.\u001b[39m_sparse_kernels\u001b[38;5;241m.\u001b[39mindex(kernel)\n\u001b[0;32m    479\u001b[0m C \u001b[38;5;241m=\u001b[39m \u001b[38;5;241m0.0\u001b[39m  \u001b[38;5;66;03m# C is not useful here\u001b[39;00m\n\u001b[1;32m--> 481\u001b[0m \u001b[38;5;28;01mreturn\u001b[39;00m \u001b[43mlibsvm_sparse\u001b[49m\u001b[38;5;241;43m.\u001b[39;49m\u001b[43mlibsvm_sparse_predict\u001b[49m\u001b[43m(\u001b[49m\n\u001b[0;32m    482\u001b[0m \u001b[43m    \u001b[49m\u001b[43mX\u001b[49m\u001b[38;5;241;43m.\u001b[39;49m\u001b[43mdata\u001b[49m\u001b[43m,\u001b[49m\n\u001b[0;32m    483\u001b[0m \u001b[43m    \u001b[49m\u001b[43mX\u001b[49m\u001b[38;5;241;43m.\u001b[39;49m\u001b[43mindices\u001b[49m\u001b[43m,\u001b[49m\n\u001b[0;32m    484\u001b[0m \u001b[43m    \u001b[49m\u001b[43mX\u001b[49m\u001b[38;5;241;43m.\u001b[39;49m\u001b[43mindptr\u001b[49m\u001b[43m,\u001b[49m\n\u001b[0;32m    485\u001b[0m \u001b[43m    \u001b[49m\u001b[38;5;28;43mself\u001b[39;49m\u001b[38;5;241;43m.\u001b[39;49m\u001b[43msupport_vectors_\u001b[49m\u001b[38;5;241;43m.\u001b[39;49m\u001b[43mdata\u001b[49m\u001b[43m,\u001b[49m\n\u001b[0;32m    486\u001b[0m \u001b[43m    \u001b[49m\u001b[38;5;28;43mself\u001b[39;49m\u001b[38;5;241;43m.\u001b[39;49m\u001b[43msupport_vectors_\u001b[49m\u001b[38;5;241;43m.\u001b[39;49m\u001b[43mindices\u001b[49m\u001b[43m,\u001b[49m\n\u001b[0;32m    487\u001b[0m \u001b[43m    \u001b[49m\u001b[38;5;28;43mself\u001b[39;49m\u001b[38;5;241;43m.\u001b[39;49m\u001b[43msupport_vectors_\u001b[49m\u001b[38;5;241;43m.\u001b[39;49m\u001b[43mindptr\u001b[49m\u001b[43m,\u001b[49m\n\u001b[0;32m    488\u001b[0m \u001b[43m    \u001b[49m\u001b[38;5;28;43mself\u001b[39;49m\u001b[38;5;241;43m.\u001b[39;49m\u001b[43m_dual_coef_\u001b[49m\u001b[38;5;241;43m.\u001b[39;49m\u001b[43mdata\u001b[49m\u001b[43m,\u001b[49m\n\u001b[0;32m    489\u001b[0m \u001b[43m    \u001b[49m\u001b[38;5;28;43mself\u001b[39;49m\u001b[38;5;241;43m.\u001b[39;49m\u001b[43m_intercept_\u001b[49m\u001b[43m,\u001b[49m\n\u001b[0;32m    490\u001b[0m \u001b[43m    \u001b[49m\u001b[43mLIBSVM_IMPL\u001b[49m\u001b[38;5;241;43m.\u001b[39;49m\u001b[43mindex\u001b[49m\u001b[43m(\u001b[49m\u001b[38;5;28;43mself\u001b[39;49m\u001b[38;5;241;43m.\u001b[39;49m\u001b[43m_impl\u001b[49m\u001b[43m)\u001b[49m\u001b[43m,\u001b[49m\n\u001b[0;32m    491\u001b[0m \u001b[43m    \u001b[49m\u001b[43mkernel_type\u001b[49m\u001b[43m,\u001b[49m\n\u001b[0;32m    492\u001b[0m \u001b[43m    \u001b[49m\u001b[38;5;28;43mself\u001b[39;49m\u001b[38;5;241;43m.\u001b[39;49m\u001b[43mdegree\u001b[49m\u001b[43m,\u001b[49m\n\u001b[0;32m    493\u001b[0m \u001b[43m    \u001b[49m\u001b[38;5;28;43mself\u001b[39;49m\u001b[38;5;241;43m.\u001b[39;49m\u001b[43m_gamma\u001b[49m\u001b[43m,\u001b[49m\n\u001b[0;32m    494\u001b[0m \u001b[43m    \u001b[49m\u001b[38;5;28;43mself\u001b[39;49m\u001b[38;5;241;43m.\u001b[39;49m\u001b[43mcoef0\u001b[49m\u001b[43m,\u001b[49m\n\u001b[0;32m    495\u001b[0m \u001b[43m    \u001b[49m\u001b[38;5;28;43mself\u001b[39;49m\u001b[38;5;241;43m.\u001b[39;49m\u001b[43mtol\u001b[49m\u001b[43m,\u001b[49m\n\u001b[0;32m    496\u001b[0m \u001b[43m    \u001b[49m\u001b[43mC\u001b[49m\u001b[43m,\u001b[49m\n\u001b[0;32m    497\u001b[0m \u001b[43m    \u001b[49m\u001b[38;5;66;43;03m# TODO(1.4): Replace \"_class_weight\" with \"class_weight_\"\u001b[39;49;00m\n\u001b[0;32m    498\u001b[0m \u001b[43m    \u001b[49m\u001b[38;5;28;43mgetattr\u001b[39;49m\u001b[43m(\u001b[49m\u001b[38;5;28;43mself\u001b[39;49m\u001b[43m,\u001b[49m\u001b[43m \u001b[49m\u001b[38;5;124;43m\"\u001b[39;49m\u001b[38;5;124;43m_class_weight\u001b[39;49m\u001b[38;5;124;43m\"\u001b[39;49m\u001b[43m,\u001b[49m\u001b[43m \u001b[49m\u001b[43mnp\u001b[49m\u001b[38;5;241;43m.\u001b[39;49m\u001b[43mempty\u001b[49m\u001b[43m(\u001b[49m\u001b[38;5;241;43m0\u001b[39;49m\u001b[43m)\u001b[49m\u001b[43m)\u001b[49m\u001b[43m,\u001b[49m\n\u001b[0;32m    499\u001b[0m \u001b[43m    \u001b[49m\u001b[38;5;28;43mself\u001b[39;49m\u001b[38;5;241;43m.\u001b[39;49m\u001b[43mnu\u001b[49m\u001b[43m,\u001b[49m\n\u001b[0;32m    500\u001b[0m \u001b[43m    \u001b[49m\u001b[38;5;28;43mself\u001b[39;49m\u001b[38;5;241;43m.\u001b[39;49m\u001b[43mepsilon\u001b[49m\u001b[43m,\u001b[49m\n\u001b[0;32m    501\u001b[0m \u001b[43m    \u001b[49m\u001b[38;5;28;43mself\u001b[39;49m\u001b[38;5;241;43m.\u001b[39;49m\u001b[43mshrinking\u001b[49m\u001b[43m,\u001b[49m\n\u001b[0;32m    502\u001b[0m \u001b[43m    \u001b[49m\u001b[38;5;28;43mself\u001b[39;49m\u001b[38;5;241;43m.\u001b[39;49m\u001b[43mprobability\u001b[49m\u001b[43m,\u001b[49m\n\u001b[0;32m    503\u001b[0m \u001b[43m    \u001b[49m\u001b[38;5;28;43mself\u001b[39;49m\u001b[38;5;241;43m.\u001b[39;49m\u001b[43m_n_support\u001b[49m\u001b[43m,\u001b[49m\n\u001b[0;32m    504\u001b[0m \u001b[43m    \u001b[49m\u001b[38;5;28;43mself\u001b[39;49m\u001b[38;5;241;43m.\u001b[39;49m\u001b[43m_probA\u001b[49m\u001b[43m,\u001b[49m\n\u001b[0;32m    505\u001b[0m \u001b[43m    \u001b[49m\u001b[38;5;28;43mself\u001b[39;49m\u001b[38;5;241;43m.\u001b[39;49m\u001b[43m_probB\u001b[49m\u001b[43m,\u001b[49m\n\u001b[0;32m    506\u001b[0m \u001b[43m\u001b[49m\u001b[43m)\u001b[49m\n",
      "\u001b[1;31mKeyboardInterrupt\u001b[0m: "
     ]
    }
   ],
   "source": [
    "#Find optimal hyperparameters\n",
    "kf = StratifiedKFold(n_splits=5, shuffle=True, random_state=42)\n",
    "param_grid = {'C': [0.5,1, 5, 10], 'kernel': ['rbf'], 'gamma':['scale','auto']}\n",
    "param_grid = ParameterGrid(param_grid)\n",
    "f1_scores = {}\n",
    "for param in param_grid:\n",
    "    param_f1 = []\n",
    "    for train_index, test_index in kf.split(train_df_X, train_df_y):\n",
    "        #split into train and val\n",
    "        X_train, X_test = train_df_X[train_index],train_df_X[test_index]\n",
    "        y_train, y_test = train_df_y[train_index], train_df_y[test_index]\n",
    "\n",
    "        #Fit TFIDF vectorize on train first, then undersample\n",
    "        tfidf_vectorizer = TfidfVectorizer(min_df=5, max_features=20000,ngram_range=(1,3))\n",
    "        tfidf_vectorizer.fit(X_train)\n",
    "\n",
    "\n",
    "        #Split into majority and minority for undersampling here\n",
    "        X_train_majority_class = X_train[y_train == 1]\n",
    "        y_train_majority_class = y_train[y_train == 1]\n",
    "        X_train_minority_class = X_train[y_train == 0]\n",
    "        y_train_minority_class = y_train[y_train == 0]\n",
    "\n",
    "        # Downsample majority class only\n",
    "        X_train_majority_downsampled,y_train_majority_downsampled = resample(X_train_majority_class,y_train_majority_class, \n",
    "                                        replace=False,    # sample without replacement\n",
    "                                        n_samples=len(X_train_minority_class),   # to match minority class\n",
    "                                        random_state=42)  # reproducible results\n",
    "\n",
    "        # Combine minority class with downsampled majority class\n",
    "        X_train_balanced = pd.concat([X_train_majority_downsampled, X_train_minority_class])\n",
    "        y_train_balanced = pd.concat([y_train_majority_downsampled, y_train_minority_class])\n",
    "\n",
    "\n",
    "        X_train_vector = tfidf_vectorizer.transform(X_train_balanced)\n",
    "        X_test_vector = tfidf_vectorizer.transform(X_test)\n",
    "\n",
    "        svc = svm.SVC(**param)\n",
    "        svc.fit(X_train_vector, y_train_balanced)\n",
    "        \n",
    "        y_pred = svc.predict(X_test_vector)\n",
    "\n",
    "        f1 = f1_score(y_test, y_pred, average='macro')\n",
    "        param_f1.append(f1)\n",
    "        #print(\"Macro F1 Score:\", f1)\n",
    "    param_str = str(param)\n",
    "    print(param)\n",
    "    f1_scores[param_str] = mean(param_f1)\n",
    "\n"
   ]
  },
  {
   "cell_type": "code",
   "execution_count": null,
   "metadata": {},
   "outputs": [
    {
     "data": {
      "text/plain": [
       "(\"{'C': 1, 'gamma': 'scale', 'kernel': 'rbf'}\", 0.8351423381221252)"
      ]
     },
     "execution_count": 20,
     "metadata": {},
     "output_type": "execute_result"
    }
   ],
   "source": [
    "max_key_for_max_value(f1_scores)"
   ]
  },
  {
   "cell_type": "code",
   "execution_count": null,
   "metadata": {},
   "outputs": [
    {
     "name": "stdout",
     "output_type": "stream",
     "text": [
      "Time taken to predict test set = 1.2766022682189941s\n"
     ]
    }
   ],
   "source": [
    "# Fit optimal hyperparameters on entire train data\n",
    "tfidf_vectorizer = TfidfVectorizer(min_df=5, max_features=20000,ngram_range=(1,3))\n",
    "tfidf_vectorizer.fit(train_df_X)\n",
    "\n",
    "\n",
    "#Split into majority and minority for undersampling here\n",
    "X_train_majority_class = train_df_X[train_df_y == 1]\n",
    "y_train_majority_class = train_df_y[train_df_y == 1]\n",
    "X_train_minority_class = train_df_X[train_df_y == 0]\n",
    "y_train_minority_class = train_df_y[train_df_y == 0]\n",
    "\n",
    "# Downsample majority class only\n",
    "X_train_majority_downsampled,y_train_majority_downsampled = resample(X_train_majority_class,y_train_majority_class, \n",
    "                        replace=False,    # sample without replacement\n",
    "                        n_samples=len(X_train_minority_class),   # to match minority class\n",
    "                        random_state=42)  # reproducible results\n",
    "\n",
    "# Combine minority class with downsampled majority class\n",
    "X_train_balanced = pd.concat([X_train_majority_downsampled, X_train_minority_class])\n",
    "y_train_balanced = pd.concat([y_train_majority_downsampled, y_train_minority_class])\n",
    "\n",
    "\n",
    "X_train_vector = tfidf_vectorizer.transform(X_train_balanced)\n",
    "\n",
    "svc = svm.SVC(C= 1, gamma= 'scale', kernel= 'rbf') #Optimal hyperparameters here\n",
    "svc.fit(X_train_vector, y_train_balanced)\n",
    "\n",
    "\n",
    "#Apply fitted model to test\n",
    "start = time()\n",
    "X_test_vector = tfidf_vectorizer.transform(testdf.cleaned_text)\n",
    "y_test_pred = svc.predict(X_test_vector)\n",
    "end = time()\n",
    "y_test_gt = testdf.Binary_anno\n",
    "print(f\"Time taken to predict test set = {end-start}s\")"
   ]
  },
  {
   "cell_type": "code",
   "execution_count": null,
   "metadata": {},
   "outputs": [
    {
     "data": {
      "text/plain": [
       "836.5957249081046"
      ]
     },
     "execution_count": 46,
     "metadata": {},
     "output_type": "execute_result"
    }
   ],
   "source": [
    "1068/(end-start)"
   ]
  },
  {
   "cell_type": "code",
   "execution_count": null,
   "metadata": {},
   "outputs": [
    {
     "name": "stdout",
     "output_type": "stream",
     "text": [
      "              precision    recall  f1-score   support\n",
      "\n",
      "           0       0.62      0.94      0.75       220\n",
      "           1       0.98      0.85      0.91       848\n",
      "\n",
      "    accuracy                           0.87      1068\n",
      "   macro avg       0.80      0.89      0.83      1068\n",
      "weighted avg       0.91      0.87      0.88      1068\n",
      "\n"
     ]
    }
   ],
   "source": [
    "print(classification_report(y_test_gt, y_test_pred))"
   ]
  },
  {
   "attachments": {},
   "cell_type": "markdown",
   "metadata": {},
   "source": [
    "### Model 2: TFIDF + Random Forest"
   ]
  },
  {
   "cell_type": "code",
   "execution_count": null,
   "metadata": {},
   "outputs": [
    {
     "name": "stdout",
     "output_type": "stream",
     "text": [
      "Macro F1 Score: 0.8088136927011607\n",
      "Macro F1 Score: 0.8078305710450226\n",
      "Macro F1 Score: 0.8139518088087925\n",
      "Macro F1 Score: 0.8030079718582818\n",
      "Macro F1 Score: 0.8012140902872777\n"
     ]
    }
   ],
   "source": [
    "kf = StratifiedKFold(n_splits=5, shuffle=True, random_state=42)\n",
    "param_grid = {'n_estimators': [100,200,250], 'max_depth':[5,10,20,None],'ccp_alpha':[0], 'max_features':['sqrt'],'n_jobs':[-1]}\n",
    "param_grid = ParameterGrid(param_grid)\n",
    "f1_scores = {}\n",
    "for param in param_grid:\n",
    "    param_f1 = []\n",
    "    for train_index, test_index in kf.split(train_df_X, train_df_y):\n",
    "        #split into train and val\n",
    "        X_train, X_test = train_df_X[train_index],train_df_X[test_index]\n",
    "        y_train, y_test = train_df_y[train_index], train_df_y[test_index]\n",
    "\n",
    "        #Fit TFIDF vectorize on train first, then undersample\n",
    "        tfidf_vectorizer = TfidfVectorizer(min_df=5, max_features=20000,ngram_range=(1,3))\n",
    "        tfidf_vectorizer.fit(X_train)\n",
    "\n",
    "\n",
    "        #Split into majority and minority for undersampling here\n",
    "        X_train_majority_class = X_train[y_train == 1]\n",
    "        y_train_majority_class = y_train[y_train == 1]\n",
    "        X_train_minority_class = X_train[y_train == 0]\n",
    "        y_train_minority_class = y_train[y_train == 0]\n",
    "\n",
    "        # Downsample majority class only\n",
    "        X_train_majority_downsampled,y_train_majority_downsampled = resample(X_train_majority_class,y_train_majority_class, \n",
    "                                        replace=False,    # sample without replacement\n",
    "                                        n_samples=len(X_train_minority_class),   # to match minority class\n",
    "                                        random_state=42)  # reproducible results\n",
    "\n",
    "        # Combine minority class with downsampled majority class\n",
    "        X_train_balanced = pd.concat([X_train_majority_downsampled, X_train_minority_class])\n",
    "        y_train_balanced = pd.concat([y_train_majority_downsampled, y_train_minority_class])\n",
    "\n",
    "\n",
    "        X_train_vector = tfidf_vectorizer.transform(X_train_balanced)\n",
    "        X_test_vector = tfidf_vectorizer.transform(X_test)\n",
    "\n",
    "        rfc = RandomForestClassifier(**param)\n",
    "        #rfc = RandomForestClassifier()\n",
    "\n",
    "        rfc.fit(X_train_vector, y_train_balanced)\n",
    "        \n",
    "        y_pred = rfc.predict(X_test_vector)\n",
    "\n",
    "        f1 = f1_score(y_test, y_pred, average='macro')\n",
    "        param_f1.append(f1)\n",
    "        print(\"Macro F1 Score:\", f1)\n",
    "    \n",
    "    param_str = str(param)\n",
    "    print(\"F1 Score:\", param_f1)\n",
    "    f1_scores[param_str] = mean(param_f1)\n",
    "\n"
   ]
  },
  {
   "cell_type": "code",
   "execution_count": null,
   "metadata": {},
   "outputs": [
    {
     "data": {
      "text/plain": [
       "(None, None)"
      ]
     },
     "execution_count": 59,
     "metadata": {},
     "output_type": "execute_result"
    }
   ],
   "source": [
    "max_key_for_max_value(f1_scores)"
   ]
  },
  {
   "cell_type": "code",
   "execution_count": null,
   "metadata": {},
   "outputs": [
    {
     "name": "stdout",
     "output_type": "stream",
     "text": [
      "Time taken to predict test set = 0.11025452613830566s\n"
     ]
    }
   ],
   "source": [
    "# Fit optimal hyperparameters on entire train data\n",
    "tfidf_vectorizer = TfidfVectorizer(min_df=5, max_features=20000,ngram_range=(1,3))\n",
    "tfidf_vectorizer.fit(train_df_X)\n",
    "\n",
    "\n",
    "#Split into majority and minority for undersampling here\n",
    "X_train_majority_class = train_df_X[train_df_y == 1]\n",
    "y_train_majority_class = train_df_y[train_df_y == 1]\n",
    "X_train_minority_class = train_df_X[train_df_y == 0]\n",
    "y_train_minority_class = train_df_y[train_df_y == 0]\n",
    "\n",
    "# Downsample majority class only\n",
    "X_train_majority_downsampled,y_train_majority_downsampled = resample(X_train_majority_class,y_train_majority_class, \n",
    "                        replace=False,    # sample without replacement\n",
    "                        n_samples=len(X_train_minority_class),   # to match minority class\n",
    "                        random_state=42)  # reproducible results\n",
    "\n",
    "# Combine minority class with downsampled majority class\n",
    "X_train_balanced = pd.concat([X_train_majority_downsampled, X_train_minority_class])\n",
    "y_train_balanced = pd.concat([y_train_majority_downsampled, y_train_minority_class])\n",
    "\n",
    "\n",
    "X_train_vector = tfidf_vectorizer.transform(X_train_balanced)\n",
    "\n",
    "rfc = RandomForestClassifier(ccp_alpha= 0, max_depth= None, max_features= 'sqrt', n_estimators= 250, n_jobs= -1, random_state=42) #Optimal hyperparameters here\n",
    "rfc.fit(X_train_vector, y_train_balanced)\n",
    "\n",
    "\n",
    "#Apply fitted model to test\n",
    "start = time()\n",
    "X_test_vector = tfidf_vectorizer.transform(testdf.cleaned_text)\n",
    "y_test_pred = rfc.predict(X_test_vector)\n",
    "end = time()\n",
    "y_test_gt = testdf.Binary_anno\n",
    "print(f\"Time taken to predict test set = {end-start}s\")"
   ]
  },
  {
   "cell_type": "code",
   "execution_count": null,
   "metadata": {},
   "outputs": [
    {
     "data": {
      "text/plain": [
       "9686.677158815935"
      ]
     },
     "execution_count": 53,
     "metadata": {},
     "output_type": "execute_result"
    }
   ],
   "source": [
    "1068/(end-start)"
   ]
  },
  {
   "cell_type": "code",
   "execution_count": null,
   "metadata": {},
   "outputs": [
    {
     "name": "stdout",
     "output_type": "stream",
     "text": [
      "              precision    recall  f1-score   support\n",
      "\n",
      "           0       0.58      0.93      0.71       220\n",
      "           1       0.98      0.83      0.90       848\n",
      "\n",
      "    accuracy                           0.85      1068\n",
      "   macro avg       0.78      0.88      0.81      1068\n",
      "weighted avg       0.90      0.85      0.86      1068\n",
      "\n"
     ]
    }
   ],
   "source": [
    "print(classification_report(y_test_gt, y_test_pred))"
   ]
  },
  {
   "attachments": {},
   "cell_type": "markdown",
   "metadata": {},
   "source": [
    "### Model 3: TFIDF + Naive Bayes"
   ]
  },
  {
   "cell_type": "code",
   "execution_count": null,
   "metadata": {},
   "outputs": [
    {
     "name": "stdout",
     "output_type": "stream",
     "text": [
      "F1 Score: [0.8095733038890933, 0.804821005472856, 0.8296010773411608, 0.8139778684898411, 0.8127726635523194]\n"
     ]
    }
   ],
   "source": [
    "kf = StratifiedKFold(n_splits=5, shuffle=True, random_state=42)\n",
    "param_grid = {'alpha':[1]}\n",
    "param_grid = ParameterGrid(param_grid)\n",
    "f1_scores = {}\n",
    "for param in param_grid:\n",
    "    param_f1 = []\n",
    "    for train_index, test_index in kf.split(train_df_X, train_df_y):\n",
    "        #split into train and val\n",
    "        X_train, X_test = train_df_X[train_index],train_df_X[test_index]\n",
    "        y_train, y_test = train_df_y[train_index], train_df_y[test_index]\n",
    "\n",
    "        #Fit TFIDF vectorize on train first, then undersample\n",
    "        tfidf_vectorizer = TfidfVectorizer(min_df=5, ngram_range=(1,3))\n",
    "        tfidf_vectorizer.fit(X_train)\n",
    "\n",
    "\n",
    "        #Split into majority and minority for undersampling here\n",
    "        X_train_majority_class = X_train[y_train == 1]\n",
    "        y_train_majority_class = y_train[y_train == 1]\n",
    "        X_train_minority_class = X_train[y_train == 0]\n",
    "        y_train_minority_class = y_train[y_train == 0]\n",
    "\n",
    "        # Downsample majority class only\n",
    "        X_train_majority_downsampled,y_train_majority_downsampled = resample(X_train_majority_class,y_train_majority_class, \n",
    "                                        replace=False,    # sample without replacement\n",
    "                                        n_samples=len(X_train_minority_class),   # to match minority class\n",
    "                                        random_state=42)  # reproducible results\n",
    "\n",
    "        # Combine minority class with downsampled majority class\n",
    "        X_train_balanced = pd.concat([X_train_majority_downsampled, X_train_minority_class])\n",
    "        y_train_balanced = pd.concat([y_train_majority_downsampled, y_train_minority_class])\n",
    "\n",
    "\n",
    "        X_train_vector = tfidf_vectorizer.transform(X_train_balanced)\n",
    "        X_test_vector = tfidf_vectorizer.transform(X_test)\n",
    "\n",
    "        nbc = MultinomialNB(**param)\n",
    "        nbc.fit(X_train_vector, y_train_balanced)\n",
    "        \n",
    "        y_pred = nbc.predict(X_test_vector)\n",
    "\n",
    "        f1 = f1_score(y_test, y_pred, average='macro')\n",
    "        param_f1.append(f1)\n",
    "        #print(\"Macro F1 Score:\", f1)\n",
    "    param_str = str(param)\n",
    "    print(\"F1 Score:\", param_f1)\n",
    "    f1_scores[param_str] = mean(param_f1)\n",
    "\n"
   ]
  },
  {
   "cell_type": "code",
   "execution_count": null,
   "metadata": {},
   "outputs": [
    {
     "data": {
      "text/plain": [
       "{\"{'alpha': 1}\": 0.8141491837490541}"
      ]
     },
     "execution_count": 31,
     "metadata": {},
     "output_type": "execute_result"
    }
   ],
   "source": [
    "f1_scores"
   ]
  },
  {
   "cell_type": "code",
   "execution_count": null,
   "metadata": {},
   "outputs": [
    {
     "name": "stdout",
     "output_type": "stream",
     "text": [
      "Time taken to predict test set = 1.335941s\n"
     ]
    }
   ],
   "source": [
    "import datetime\n",
    "# Fit optimal hyperparameters on entire train data\n",
    "tfidf_vectorizer = TfidfVectorizer(min_df=5, max_features=20000,ngram_range=(1,3))\n",
    "tfidf_vectorizer.fit(train_df_X)\n",
    "\n",
    "\n",
    "#Split into majority and minority for undersampling here\n",
    "X_train_majority_class = train_df_X[train_df_y == 1]\n",
    "y_train_majority_class = train_df_y[train_df_y == 1]\n",
    "X_train_minority_class = train_df_X[train_df_y == 0]\n",
    "y_train_minority_class = train_df_y[train_df_y == 0]\n",
    "\n",
    "# Downsample majority class only\n",
    "X_train_majority_downsampled,y_train_majority_downsampled = resample(X_train_majority_class,y_train_majority_class, \n",
    "                        replace=False,    # sample without replacement\n",
    "                        n_samples=len(X_train_minority_class),   # to match minority class\n",
    "                        random_state=42)  # reproducible results\n",
    "\n",
    "# Combine minority class with downsampled majority class\n",
    "X_train_balanced = pd.concat([X_train_majority_downsampled, X_train_minority_class])\n",
    "y_train_balanced = pd.concat([y_train_majority_downsampled, y_train_minority_class])\n",
    "\n",
    "\n",
    "X_train_vector = tfidf_vectorizer.transform(X_train_balanced)\n",
    "\n",
    "nbc = MultinomialNB() #Optimal hyperparameters here\n",
    "nbc.fit(X_train_vector, y_train_balanced)\n",
    "\n",
    "\n",
    "#Apply fitted model to test\n",
    "X_test_vector = tfidf_vectorizer.transform(testdf.cleaned_text)\n",
    "start= datetime.datetime.now()\n",
    "for i in range(20):\n",
    "    X_test_vector = tfidf_vectorizer.transform(testdf.cleaned_text)\n",
    "    y_test_pred = nbc.predict(X_test_vector)\n",
    "\n",
    "end = datetime.datetime.now()\n",
    "t = end-start\n",
    "y_test_gt = testdf.Binary_anno\n",
    "print(f\"Time taken to predict test set = {t.total_seconds()}s\")"
   ]
  },
  {
   "cell_type": "code",
   "execution_count": null,
   "metadata": {},
   "outputs": [
    {
     "data": {
      "text/plain": [
       "15988.73004122188"
      ]
     },
     "execution_count": 59,
     "metadata": {},
     "output_type": "execute_result"
    }
   ],
   "source": [
    "(20*1068) / t.total_seconds()"
   ]
  },
  {
   "cell_type": "code",
   "execution_count": null,
   "metadata": {},
   "outputs": [
    {
     "name": "stdout",
     "output_type": "stream",
     "text": [
      "              precision    recall  f1-score   support\n",
      "\n",
      "           0       0.56      0.93      0.70       220\n",
      "           1       0.98      0.81      0.89       848\n",
      "\n",
      "    accuracy                           0.84      1068\n",
      "   macro avg       0.77      0.87      0.79      1068\n",
      "weighted avg       0.89      0.84      0.85      1068\n",
      "\n"
     ]
    }
   ],
   "source": [
    "print(classification_report(y_test_gt, y_test_pred))"
   ]
  },
  {
   "cell_type": "markdown",
   "metadata": {},
   "source": [
    "## Innovation - Stacked ensemble"
   ]
  },
  {
   "cell_type": "code",
   "execution_count": 145,
   "metadata": {},
   "outputs": [
    {
     "name": "stdout",
     "output_type": "stream",
     "text": [
      "Time taken to predict test set = 0.8282756805419922s\n"
     ]
    }
   ],
   "source": [
    "# Fit optimal hyperparameters on entire train data\n",
    "tfidf_vectorizer = TfidfVectorizer(min_df=5, max_features=20000,ngram_range=(1,3))\n",
    "tfidf_vectorizer.fit(train_df_X)\n",
    "\n",
    "\n",
    "#Split into majority and minority for undersampling here\n",
    "X_train_majority_class = train_df_X[train_df_y == 1]\n",
    "y_train_majority_class = train_df_y[train_df_y == 1]\n",
    "X_train_minority_class = train_df_X[train_df_y == 0]\n",
    "y_train_minority_class = train_df_y[train_df_y == 0]\n",
    "\n",
    "# Downsample majority class only\n",
    "X_train_majority_downsampled,y_train_majority_downsampled = resample(X_train_majority_class,y_train_majority_class, \n",
    "                        replace=False,    # sample without replacement\n",
    "                        n_samples=len(X_train_minority_class),   # to match minority class\n",
    "                        random_state=42)  # reproducible results\n",
    "\n",
    "# Combine minority class with downsampled majority class\n",
    "X_train_balanced = pd.concat([X_train_majority_downsampled, X_train_minority_class])\n",
    "y_train_balanced = pd.concat([y_train_majority_downsampled, y_train_minority_class])\n",
    "\n",
    "\n",
    "X_train_vector = tfidf_vectorizer.transform(X_train_balanced)\n",
    "\n",
    "\n",
    "estimators = [#('nbc', MultinomialNB()), \n",
    "              ('rfc', RandomForestClassifier(n_jobs= -1,random_state=42)),\n",
    "              ('knc', KNeighborsClassifier()),]\n",
    "              #('svm', svm.SVC(C= 15, gamma= 'scale', kernel= 'rbf'))\n",
    "              #]\n",
    "\n",
    "#estimators = [('svm', svm.SVC(C= 1, gamma= 'auto', kernel= 'rbf'))]\n",
    "stackclf = StackingClassifier(estimators=estimators)\n",
    "\n",
    "\n",
    "stackclf.fit(X_train_vector, y_train_balanced)\n",
    "\n",
    "\n",
    "#Apply fitted model to test\n",
    "start = time()\n",
    "X_test_vector = tfidf_vectorizer.transform(testdf.cleaned_text)\n",
    "y_test_pred = stackclf.predict(X_test_vector)\n",
    "end = time()\n",
    "y_test_gt = testdf.Binary_anno\n",
    "print(f\"Time taken to predict test set = {end-start}s\")"
   ]
  },
  {
   "cell_type": "code",
   "execution_count": 143,
   "metadata": {},
   "outputs": [
    {
     "data": {
      "text/plain": [
       "[MultinomialNB(), KNeighborsClassifier()]"
      ]
     },
     "execution_count": 143,
     "metadata": {},
     "output_type": "execute_result"
    }
   ],
   "source": [
    "stackclf.estimators_"
   ]
  },
  {
   "cell_type": "code",
   "execution_count": 150,
   "metadata": {},
   "outputs": [
    {
     "data": {
      "text/plain": [
       "1289.425761361412"
      ]
     },
     "execution_count": 150,
     "metadata": {},
     "output_type": "execute_result"
    }
   ],
   "source": [
    "(1068) / (end-start)"
   ]
  },
  {
   "cell_type": "code",
   "execution_count": 149,
   "metadata": {},
   "outputs": [
    {
     "name": "stdout",
     "output_type": "stream",
     "text": [
      "              precision    recall  f1-score   support\n",
      "\n",
      "           0       0.46      0.93      0.62       220\n",
      "           1       0.97      0.72      0.83       848\n",
      "\n",
      "    accuracy                           0.76      1068\n",
      "   macro avg       0.72      0.83      0.72      1068\n",
      "weighted avg       0.87      0.76      0.79      1068\n",
      "\n"
     ]
    }
   ],
   "source": [
    "print(classification_report(y_test_gt, y_test_pred))"
   ]
  },
  {
   "attachments": {},
   "cell_type": "markdown",
   "metadata": {},
   "source": [
    "## Innovation - Add POS tags to TFIDF"
   ]
  },
  {
   "cell_type": "code",
   "execution_count": null,
   "metadata": {},
   "outputs": [],
   "source": [
    "def get_wordnet_pos(text):\n",
    "    # Map POS tag to first character lemmatize() accepts\n",
    "    tags = nltk.pos_tag(text)\n",
    "    tag_dict = {\"J\": wordnet.ADJ,\n",
    "                \"N\": wordnet.NOUN,\n",
    "                \"V\": wordnet.VERB,\n",
    "                \"R\": wordnet.ADV}\n",
    "    tags = [tag_dict.get(tag[1][0],  wordnet.NOUN) for tag in tags]\n",
    "    return tags\n",
    "\n",
    "def add_pos_tags_to_lemma(text):\n",
    "    #appends POS tag to end of each word\n",
    "    pos_text = ''\n",
    "    tok_text = word_tokenize(text)\n",
    "    tags = get_wordnet_pos(tok_text)\n",
    "    for i, word in enumerate(tok_text):\n",
    "        pos_text = pos_text + ' ' + f'{tok_text[i]}_{tags[i]}'\n",
    "    return pos_text\n",
    "\n",
    "def add_pos_tags_to_stem(text):\n",
    "    #appends POS tag to end of each word\n",
    "    stemmer=PorterStemmer()\n",
    "    pos_text = ''\n",
    "    tok_text = word_tokenize(text)\n",
    "    tags = get_wordnet_pos(tok_text)\n",
    "    for i, word in enumerate(tok_text):\n",
    "        pos_text = pos_text + ' ' + f'{stemmer.stem(tok_text[i])}_{tags[i]}'\n",
    "    return pos_text\n"
   ]
  },
  {
   "cell_type": "code",
   "execution_count": null,
   "metadata": {},
   "outputs": [],
   "source": [
    "#Add POS labels behind each word\n",
    "train_df_X_POS = train_df_X.apply(add_pos_tags_to_lemma)\n",
    "#train_df_X_stem_POS = train_df_X.apply(add_pos_tags_to_stem)"
   ]
  },
  {
   "cell_type": "code",
   "execution_count": null,
   "metadata": {},
   "outputs": [],
   "source": [
    "testdf['cleaned_text_POS'] = testdf.cleaned_text.apply(add_pos_tags_to_lemma)"
   ]
  },
  {
   "attachments": {},
   "cell_type": "markdown",
   "metadata": {},
   "source": [
    "### TFIDF POS + SVM"
   ]
  },
  {
   "cell_type": "code",
   "execution_count": null,
   "metadata": {},
   "outputs": [
    {
     "name": "stdout",
     "output_type": "stream",
     "text": [
      "F1 Score: [0.8177186905351013, 0.8185271522050939, 0.825887058504041, 0.8189530791461783, 0.8053814002089863]\n",
      "F1 Score: [0.8218483598273628, 0.8285821100745483, 0.8357168473613066, 0.8262399596282435, 0.8171117272240868]\n",
      "F1 Score: [0.8261709913201911, 0.8249493594924319, 0.8359864649986066, 0.8255868344091795, 0.8239411242228143]\n",
      "F1 Score: [0.8261709913201911, 0.8249493594924319, 0.8359864649986066, 0.8255868344091795, 0.8239411242228143]\n",
      "F1 Score: [0.8261709913201911, 0.8249493594924319, 0.8359864649986066, 0.8255868344091795, 0.8239411242228143]\n"
     ]
    }
   ],
   "source": [
    "kf = StratifiedKFold(n_splits=5, shuffle=True, random_state=42)\n",
    "param_grid = {'C': [0.5,1, 5, 10,15], 'kernel': ['rbf'], 'gamma':['scale']}\n",
    "param_grid = ParameterGrid(param_grid)\n",
    "f1_scores = {}\n",
    "for param in param_grid:\n",
    "    param_f1 = []\n",
    "    for train_index, test_index in kf.split(train_df_X_POS, train_df_y):\n",
    "        #split into train and val\n",
    "        X_train, X_test = train_df_X_POS[train_index],train_df_X_POS[test_index]\n",
    "        y_train, y_test = train_df_y[train_index], train_df_y[test_index]\n",
    "\n",
    "        #Fit TFIDF vectorize on train first, then undersample\n",
    "        tfidf_vectorizer = TfidfVectorizer(min_df=5, max_features=20000, ngram_range=(1,3), stop_words=['_a','_n','_r','_v'])\n",
    "        tfidf_vectorizer.fit(X_train)\n",
    "\n",
    "\n",
    "        #Split into majority and minority for undersampling here\n",
    "        X_train_majority_class = X_train[y_train == 1]\n",
    "        y_train_majority_class = y_train[y_train == 1]\n",
    "        X_train_minority_class = X_train[y_train == 0]\n",
    "        y_train_minority_class = y_train[y_train == 0]\n",
    "\n",
    "        # Downsample majority class only\n",
    "        X_train_majority_downsampled,y_train_majority_downsampled = resample(X_train_majority_class,y_train_majority_class, \n",
    "                                        replace=False,    # sample without replacement\n",
    "                                        n_samples=len(X_train_minority_class),   # to match minority class\n",
    "                                        random_state=42)  # reproducible results\n",
    "\n",
    "        # Combine minority class with downsampled majority class\n",
    "        X_train_balanced = pd.concat([X_train_majority_downsampled, X_train_minority_class])\n",
    "        y_train_balanced = pd.concat([y_train_majority_downsampled, y_train_minority_class])\n",
    "\n",
    "\n",
    "        X_train_vector = tfidf_vectorizer.transform(X_train_balanced)\n",
    "        X_test_vector = tfidf_vectorizer.transform(X_test)\n",
    "\n",
    "        svc = svm.SVC(**param)\n",
    "        svc.fit(X_train_vector, y_train_balanced)\n",
    "        \n",
    "        y_pred = svc.predict(X_test_vector)\n",
    "\n",
    "        f1 = f1_score(y_test, y_pred, average='macro')\n",
    "        param_f1.append(f1)\n",
    "    param_str = str(param)\n",
    "    print(\"F1 Score:\", param_f1)\n",
    "    f1_scores[param_str] = mean(param_f1)\n",
    "\n"
   ]
  },
  {
   "cell_type": "code",
   "execution_count": null,
   "metadata": {},
   "outputs": [
    {
     "data": {
      "text/plain": [
       "(\"{'C': 15, 'gamma': 'scale', 'kernel': 'rbf'}\", 0.8273269548886447)"
      ]
     },
     "execution_count": 110,
     "metadata": {},
     "output_type": "execute_result"
    }
   ],
   "source": [
    "max_key_for_max_value(f1_scores)"
   ]
  },
  {
   "cell_type": "code",
   "execution_count": null,
   "metadata": {},
   "outputs": [
    {
     "name": "stdout",
     "output_type": "stream",
     "text": [
      "Time taken to predict test set = 1.1655681133270264s\n"
     ]
    }
   ],
   "source": [
    "# Fit optimal hyperparameters on entire train data\n",
    "tfidf_vectorizer = TfidfVectorizer(min_df=5, max_features=20000,ngram_range=(1,3))\n",
    "tfidf_vectorizer.fit(train_df_X_POS)\n",
    "\n",
    "\n",
    "#Split into majority and minority for undersampling here\n",
    "X_train_majority_class = train_df_X_POS[train_df_y == 1]\n",
    "y_train_majority_class = train_df_y[train_df_y == 1]\n",
    "X_train_minority_class = train_df_X_POS[train_df_y == 0]\n",
    "y_train_minority_class = train_df_y[train_df_y == 0]\n",
    "\n",
    "# Downsample majority class only\n",
    "X_train_majority_downsampled,y_train_majority_downsampled = resample(X_train_majority_class,y_train_majority_class, \n",
    "                        replace=False,    # sample without replacement\n",
    "                        n_samples=len(X_train_minority_class),   # to match minority class\n",
    "                        random_state=42)  # reproducible results\n",
    "\n",
    "# Combine minority class with downsampled majority class\n",
    "X_train_balanced = pd.concat([X_train_majority_downsampled, X_train_minority_class])\n",
    "y_train_balanced = pd.concat([y_train_majority_downsampled, y_train_minority_class])\n",
    "\n",
    "\n",
    "X_train_vector = tfidf_vectorizer.transform(X_train_balanced)\n",
    "\n",
    "svc = svm.SVC(C= 20, gamma= 'scale', kernel= 'rbf')\n",
    "svc.fit(X_train_vector, y_train_balanced)\n",
    "\n",
    "\n",
    "#Apply fitted model to test\n",
    "start = time()\n",
    "X_test_vector = tfidf_vectorizer.transform(testdf.cleaned_text_POS)\n",
    "y_test_pred = svc.predict(X_test_vector)\n",
    "end = time()\n",
    "y_test_gt = testdf.Binary_anno\n",
    "print(f\"Time taken to predict test set = {end-start}s\")"
   ]
  },
  {
   "cell_type": "code",
   "execution_count": null,
   "metadata": {},
   "outputs": [
    {
     "data": {
      "text/plain": [
       "916.2913670926313"
      ]
     },
     "execution_count": 129,
     "metadata": {},
     "output_type": "execute_result"
    }
   ],
   "source": [
    "1068/(end-start)"
   ]
  },
  {
   "cell_type": "code",
   "execution_count": null,
   "metadata": {},
   "outputs": [
    {
     "name": "stdout",
     "output_type": "stream",
     "text": [
      "              precision    recall  f1-score   support\n",
      "\n",
      "           0       0.60      0.92      0.73       220\n",
      "           1       0.98      0.84      0.90       848\n",
      "\n",
      "    accuracy                           0.86      1068\n",
      "   macro avg       0.79      0.88      0.82      1068\n",
      "weighted avg       0.90      0.86      0.87      1068\n",
      "\n"
     ]
    }
   ],
   "source": [
    "print(classification_report(y_test_gt, y_test_pred))"
   ]
  },
  {
   "cell_type": "markdown",
   "metadata": {},
   "source": [
    "### TFIDF POS + Random Forest"
   ]
  },
  {
   "cell_type": "code",
   "execution_count": null,
   "metadata": {},
   "outputs": [
    {
     "name": "stdout",
     "output_type": "stream",
     "text": [
      "F1 Score: [0.7978159600936621, 0.7841882219636284, 0.7837597216537044, 0.7645321938666224, 0.782531476236497]\n",
      "F1 Score: [0.7878477165075104, 0.7959343617470864, 0.8031369074175481, 0.7794964087098919, 0.7658251006220271]\n",
      "F1 Score: [0.7903430367122668, 0.7804949923421727, 0.8011274135663131, 0.7755218360018017, 0.7750068965883548]\n",
      "F1 Score: [0.7920286677817654, 0.7856194690265487, 0.7954996158715102, 0.7806606625009866, 0.7614919507519142]\n",
      "F1 Score: [0.7986905410312274, 0.800250872657776, 0.798890284757119, 0.7768238227779718, 0.7731709731709732]\n",
      "F1 Score: [0.7927986596810487, 0.7987726302474505, 0.7981615848075578, 0.789671682626539, 0.7861911770890282]\n",
      "F1 Score: [0.8069958597995981, 0.8039436591806504, 0.8104457396824024, 0.779270684123452, 0.779270684123452]\n",
      "F1 Score: [0.8031914185886229, 0.7963651245455832, 0.8131238623428592, 0.7995360813772849, 0.7969824008852759]\n",
      "F1 Score: [0.803160411476332, 0.8065316511325558, 0.8130314486010165, 0.808161106174714, 0.779270684123452]\n",
      "F1 Score: [0.8000382111892903, 0.7981122854254354, 0.8026746861009134, 0.7954896956631032, 0.7838717995369056]\n",
      "F1 Score: [0.8000420290196633, 0.7979908650542176, 0.8109453082518264, 0.7969616482028666, 0.7867505083471455]\n",
      "F1 Score: [0.7906342182890855, 0.8102193196826157, 0.8150263498882666, 0.7908323130875059, 0.7930024565084246]\n"
     ]
    }
   ],
   "source": [
    "kf = StratifiedKFold(n_splits=5, shuffle=True, random_state=42)\n",
    "param_grid = {'n_estimators': [100,200,250], 'max_depth':[5,10,20,None],'ccp_alpha':[0], 'max_features':['sqrt'],'n_jobs':[-1]}\n",
    "param_grid = ParameterGrid(param_grid)\n",
    "f1_scores = {}\n",
    "for param in param_grid:\n",
    "    param_f1 = []\n",
    "    for train_index, test_index in kf.split(train_df_X_POS, train_df_y):\n",
    "        #split into train and val\n",
    "        X_train, X_test = train_df_X_POS[train_index],train_df_X_POS[test_index]\n",
    "        y_train, y_test = train_df_y[train_index], train_df_y[test_index]\n",
    "\n",
    "        #Fit TFIDF vectorize on train first, then undersample\n",
    "        tfidf_vectorizer = TfidfVectorizer(min_df=5, max_features=20000, ngram_range=(1,3), stop_words=['_a','_n','_r','_v'])\n",
    "        tfidf_vectorizer.fit(X_train)\n",
    "\n",
    "\n",
    "        #Split into majority and minority for undersampling here\n",
    "        X_train_majority_class = X_train[y_train == 1]\n",
    "        y_train_majority_class = y_train[y_train == 1]\n",
    "        X_train_minority_class = X_train[y_train == 0]\n",
    "        y_train_minority_class = y_train[y_train == 0]\n",
    "\n",
    "        # Downsample majority class only\n",
    "        X_train_majority_downsampled,y_train_majority_downsampled = resample(X_train_majority_class,y_train_majority_class, \n",
    "                                        replace=False,    # sample without replacement\n",
    "                                        n_samples=len(X_train_minority_class),   # to match minority class\n",
    "                                        random_state=42)  # reproducible results\n",
    "\n",
    "        # Combine minority class with downsampled majority class\n",
    "        X_train_balanced = pd.concat([X_train_majority_downsampled, X_train_minority_class])\n",
    "        y_train_balanced = pd.concat([y_train_majority_downsampled, y_train_minority_class])\n",
    "\n",
    "\n",
    "        X_train_vector = tfidf_vectorizer.transform(X_train_balanced)\n",
    "        X_test_vector = tfidf_vectorizer.transform(X_test)\n",
    "\n",
    "        rfc = RandomForestClassifier(**param)\n",
    "        rfc.fit(X_train_vector, y_train_balanced)\n",
    "        \n",
    "        y_pred = rfc.predict(X_test_vector)\n",
    "\n",
    "        f1 = f1_score(y_test, y_pred, average='macro')\n",
    "        param_f1.append(f1)\n",
    "    param_str = str(param)\n",
    "    print(\"F1 Score:\", param_f1)\n",
    "    f1_scores[param_str] = mean(param_f1)\n",
    "\n"
   ]
  },
  {
   "cell_type": "code",
   "execution_count": null,
   "metadata": {},
   "outputs": [
    {
     "data": {
      "text/plain": [
       "(\"{'ccp_alpha': 0, 'max_depth': 20, 'max_features': 'sqrt', 'n_estimators': 250, 'n_jobs': -1}\",\n",
       " 0.8020310603016141)"
      ]
     },
     "execution_count": 124,
     "metadata": {},
     "output_type": "execute_result"
    }
   ],
   "source": [
    "max_key_for_max_value(f1_scores)"
   ]
  },
  {
   "cell_type": "code",
   "execution_count": null,
   "metadata": {},
   "outputs": [
    {
     "name": "stdout",
     "output_type": "stream",
     "text": [
      "Time taken to predict test set = 0.10002303123474121s\n"
     ]
    }
   ],
   "source": [
    "# Fit optimal hyperparameters on entire train data\n",
    "tfidf_vectorizer = TfidfVectorizer(min_df=5, max_features=20000,ngram_range=(1,3))\n",
    "tfidf_vectorizer.fit(train_df_X_POS)\n",
    "\n",
    "\n",
    "#Split into majority and minority for undersampling here\n",
    "X_train_majority_class = train_df_X_POS[train_df_y == 1]\n",
    "y_train_majority_class = train_df_y[train_df_y == 1]\n",
    "X_train_minority_class = train_df_X_POS[train_df_y == 0]\n",
    "y_train_minority_class = train_df_y[train_df_y == 0]\n",
    "\n",
    "# Downsample majority class only\n",
    "X_train_majority_downsampled,y_train_majority_downsampled = resample(X_train_majority_class,y_train_majority_class, \n",
    "                        replace=False,    # sample without replacement\n",
    "                        n_samples=len(X_train_minority_class),   # to match minority class\n",
    "                        random_state=42)  # reproducible results\n",
    "\n",
    "# Combine minority class with downsampled majority class\n",
    "X_train_balanced = pd.concat([X_train_majority_downsampled, X_train_minority_class])\n",
    "y_train_balanced = pd.concat([y_train_majority_downsampled, y_train_minority_class])\n",
    "\n",
    "\n",
    "X_train_vector = tfidf_vectorizer.transform(X_train_balanced)\n",
    "\n",
    "rfc = RandomForestClassifier(ccp_alpha= 0, max_depth= 20, max_features= 'sqrt', n_estimators= 250, n_jobs= -1)\n",
    "rfc.fit(X_train_vector, y_train_balanced)\n",
    "\n",
    "\n",
    "#Apply fitted model to test\n",
    "start = time()\n",
    "X_test_vector = tfidf_vectorizer.transform(testdf.cleaned_text_POS)\n",
    "y_test_pred = rfc.predict(X_test_vector)\n",
    "end = time()\n",
    "y_test_gt = testdf.Binary_anno\n",
    "print(f\"Time taken to predict test set = {end-start}s\")"
   ]
  },
  {
   "cell_type": "code",
   "execution_count": null,
   "metadata": {},
   "outputs": [
    {
     "name": "stdout",
     "output_type": "stream",
     "text": [
      "              precision    recall  f1-score   support\n",
      "\n",
      "           0       0.59      0.92      0.72       220\n",
      "           1       0.98      0.83      0.90       848\n",
      "\n",
      "    accuracy                           0.85      1068\n",
      "   macro avg       0.78      0.88      0.81      1068\n",
      "weighted avg       0.90      0.85      0.86      1068\n",
      "\n"
     ]
    }
   ],
   "source": [
    "print(classification_report(y_test_gt, y_test_pred))"
   ]
  },
  {
   "attachments": {},
   "cell_type": "markdown",
   "metadata": {},
   "source": [
    "### TFIDF POS + Naive Bayes"
   ]
  },
  {
   "cell_type": "code",
   "execution_count": null,
   "metadata": {},
   "outputs": [
    {
     "name": "stdout",
     "output_type": "stream",
     "text": [
      "F1 Score: [0.798231045449683, 0.8032970910314013, 0.8233272196991352, 0.8069573824451869, 0.8034802955569289]\n"
     ]
    }
   ],
   "source": [
    "kf = StratifiedKFold(n_splits=5, shuffle=True, random_state=42)\n",
    "param_grid = {'alpha':[1]}\n",
    "param_grid = ParameterGrid(param_grid)\n",
    "f1_scores = {}\n",
    "for param in param_grid:\n",
    "    param_f1 = []\n",
    "    for train_index, test_index in kf.split(train_df_X_POS, train_df_y):\n",
    "        #split into train and val\n",
    "        X_train, X_test = train_df_X_POS[train_index],train_df_X_POS[test_index]\n",
    "        y_train, y_test = train_df_y[train_index], train_df_y[test_index]\n",
    "\n",
    "        #Fit TFIDF vectorize on train first, then undersample\n",
    "        tfidf_vectorizer = TfidfVectorizer(min_df=5, max_features=20000, ngram_range=(1,3), stop_words=['_a','_n','_r','_v'])\n",
    "        tfidf_vectorizer.fit(X_train)\n",
    "\n",
    "\n",
    "        #Split into majority and minority for undersampling here\n",
    "        X_train_majority_class = X_train[y_train == 1]\n",
    "        y_train_majority_class = y_train[y_train == 1]\n",
    "        X_train_minority_class = X_train[y_train == 0]\n",
    "        y_train_minority_class = y_train[y_train == 0]\n",
    "\n",
    "        # Downsample majority class only\n",
    "        X_train_majority_downsampled,y_train_majority_downsampled = resample(X_train_majority_class,y_train_majority_class, \n",
    "                                        replace=False,    # sample without replacement\n",
    "                                        n_samples=len(X_train_minority_class),   # to match minority class\n",
    "                                        random_state=42)  # reproducible results\n",
    "\n",
    "        # Combine minority class with downsampled majority class\n",
    "        X_train_balanced = pd.concat([X_train_majority_downsampled, X_train_minority_class])\n",
    "        y_train_balanced = pd.concat([y_train_majority_downsampled, y_train_minority_class])\n",
    "\n",
    "\n",
    "        X_train_vector = tfidf_vectorizer.transform(X_train_balanced)\n",
    "        X_test_vector = tfidf_vectorizer.transform(X_test)\n",
    "\n",
    "        nbc = MultinomialNB(**param)\n",
    "        nbc.fit(X_train_vector, y_train_balanced)\n",
    "        \n",
    "        y_pred = nbc.predict(X_test_vector)\n",
    "\n",
    "        f1 = f1_score(y_test, y_pred, average='macro')\n",
    "        param_f1.append(f1)\n",
    "    param_str = str(param)\n",
    "    print(\"F1 Score:\", param_f1)\n",
    "    f1_scores[param_str] = mean(param_f1)\n",
    "\n"
   ]
  },
  {
   "cell_type": "code",
   "execution_count": null,
   "metadata": {},
   "outputs": [
    {
     "data": {
      "text/plain": [
       "(\"{'alpha': 1}\", 0.8070586068364671)"
      ]
     },
     "execution_count": 135,
     "metadata": {},
     "output_type": "execute_result"
    }
   ],
   "source": [
    "max_key_for_max_value(f1_scores)"
   ]
  },
  {
   "cell_type": "code",
   "execution_count": null,
   "metadata": {},
   "outputs": [
    {
     "name": "stdout",
     "output_type": "stream",
     "text": [
      "Time taken to predict test set = 0.07051753997802734s\n"
     ]
    }
   ],
   "source": [
    "# Fit optimal hyperparameters on entire train data\n",
    "tfidf_vectorizer = TfidfVectorizer(min_df=5, max_features=20000,ngram_range=(1,3))\n",
    "tfidf_vectorizer.fit(train_df_X_POS)\n",
    "\n",
    "\n",
    "#Split into majority and minority for undersampling here\n",
    "X_train_majority_class = train_df_X_POS[train_df_y == 1]\n",
    "y_train_majority_class = train_df_y[train_df_y == 1]\n",
    "X_train_minority_class = train_df_X_POS[train_df_y == 0]\n",
    "y_train_minority_class = train_df_y[train_df_y == 0]\n",
    "\n",
    "# Downsample majority class only\n",
    "X_train_majority_downsampled,y_train_majority_downsampled = resample(X_train_majority_class,y_train_majority_class, \n",
    "                        replace=False,    # sample without replacement\n",
    "                        n_samples=len(X_train_minority_class),   # to match minority class\n",
    "                        random_state=42)  # reproducible results\n",
    "\n",
    "# Combine minority class with downsampled majority class\n",
    "X_train_balanced = pd.concat([X_train_majority_downsampled, X_train_minority_class])\n",
    "y_train_balanced = pd.concat([y_train_majority_downsampled, y_train_minority_class])\n",
    "\n",
    "\n",
    "X_train_vector = tfidf_vectorizer.transform(X_train_balanced)\n",
    "\n",
    "nbc = MultinomialNB()\n",
    "nbc.fit(X_train_vector, y_train_balanced)\n",
    "\n",
    "\n",
    "#Apply fitted model to test\n",
    "start = time()\n",
    "X_test_vector = tfidf_vectorizer.transform(testdf.cleaned_text_POS)\n",
    "y_test_pred = nbc.predict(X_test_vector)\n",
    "end = time()\n",
    "y_test_gt = testdf.Binary_anno\n",
    "print(f\"Time taken to predict test set = {end-start}s\")"
   ]
  },
  {
   "cell_type": "code",
   "execution_count": null,
   "metadata": {},
   "outputs": [
    {
     "data": {
      "text/plain": [
       "15145.16814302909"
      ]
     },
     "execution_count": 138,
     "metadata": {},
     "output_type": "execute_result"
    }
   ],
   "source": [
    "1068/(end-start)"
   ]
  },
  {
   "cell_type": "code",
   "execution_count": null,
   "metadata": {},
   "outputs": [
    {
     "name": "stdout",
     "output_type": "stream",
     "text": [
      "              precision    recall  f1-score   support\n",
      "\n",
      "           0       0.56      0.94      0.70       220\n",
      "           1       0.98      0.81      0.88       848\n",
      "\n",
      "    accuracy                           0.83      1068\n",
      "   macro avg       0.77      0.87      0.79      1068\n",
      "weighted avg       0.89      0.83      0.85      1068\n",
      "\n"
     ]
    }
   ],
   "source": [
    "print(classification_report(y_test_gt, y_test_pred))"
   ]
  }
 ],
 "metadata": {
  "kernelspec": {
   "display_name": "base",
   "language": "python",
   "name": "python3"
  },
  "language_info": {
   "codemirror_mode": {
    "name": "ipython",
    "version": 3
   },
   "file_extension": ".py",
   "mimetype": "text/x-python",
   "name": "python",
   "nbconvert_exporter": "python",
   "pygments_lexer": "ipython3",
   "version": "3.10.9"
  },
  "orig_nbformat": 4
 },
 "nbformat": 4,
 "nbformat_minor": 2
}
