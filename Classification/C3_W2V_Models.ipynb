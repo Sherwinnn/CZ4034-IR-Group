{
 "cells": [
  {
   "cell_type": "code",
   "execution_count": 7,
   "metadata": {},
   "outputs": [
    {
     "name": "stderr",
     "output_type": "stream",
     "text": [
      "[nltk_data] Downloading package punkt to\n",
      "[nltk_data]     C:\\Users\\limju\\AppData\\Roaming\\nltk_data...\n",
      "[nltk_data]   Package punkt is already up-to-date!\n",
      "[nltk_data] Downloading package stopwords to\n",
      "[nltk_data]     C:\\Users\\limju\\AppData\\Roaming\\nltk_data...\n",
      "[nltk_data]   Package stopwords is already up-to-date!\n"
     ]
    }
   ],
   "source": [
    "import pandas as pd\n",
    "import matplotlib.pyplot as plt\n",
    "import seaborn as sns\n",
    "import nltk\n",
    "from nltk.stem import WordNetLemmatizer\n",
    "from nltk.corpus import stopwords\n",
    "from nltk.tokenize import word_tokenize\n",
    "from nltk.stem import PorterStemmer\n",
    "from sklearn.feature_extraction.text import TfidfVectorizer\n",
    "import string\n",
    "import re\n",
    "from sklearn import svm\n",
    "from sklearn.datasets import make_classification\n",
    "from sklearn.model_selection import train_test_split\n",
    "from sklearn.metrics import accuracy_score\n",
    "nltk.download('punkt')\n",
    "nltk.download('stopwords')\n",
    "#from spellchecker import SpellChecker\n",
    "from sklearn.model_selection import cross_val_score, KFold\n",
    "from sklearn.svm import SVC\n",
    "import numpy as np\n",
    "from sklearn.utils import resample\n",
    "from nltk.corpus import wordnet\n",
    "from nltk.tokenize import word_tokenize\n",
    "from sklearn.metrics import f1_score\n",
    "from sklearn.model_selection import ParameterGrid\n",
    "from sklearn.model_selection import StratifiedKFold\n",
    "from sklearn.ensemble import RandomForestClassifier\n",
    "from sklearn.naive_bayes import MultinomialNB\n",
    "from statistics import mean \n",
    "from gensim.models import Word2Vec\n",
    "from gensim.utils import simple_preprocess\n",
    "import contractions\n",
    "from sklearn.metrics import classification_report\n",
    "from time import time\n",
    "from sklearn.preprocessing import MinMaxScaler"
   ]
  },
  {
   "attachments": {},
   "cell_type": "markdown",
   "metadata": {},
   "source": [
    "### Load train data"
   ]
  },
  {
   "cell_type": "code",
   "execution_count": 48,
   "metadata": {},
   "outputs": [
    {
     "data": {
      "text/html": [
       "<div>\n",
       "<style scoped>\n",
       "    .dataframe tbody tr th:only-of-type {\n",
       "        vertical-align: middle;\n",
       "    }\n",
       "\n",
       "    .dataframe tbody tr th {\n",
       "        vertical-align: top;\n",
       "    }\n",
       "\n",
       "    .dataframe thead th {\n",
       "        text-align: right;\n",
       "    }\n",
       "</style>\n",
       "<table border=\"1\" class=\"dataframe\">\n",
       "  <thead>\n",
       "    <tr style=\"text-align: right;\">\n",
       "      <th></th>\n",
       "      <th>idx</th>\n",
       "      <th>title</th>\n",
       "      <th>stars</th>\n",
       "      <th>text</th>\n",
       "      <th>cleaned_text</th>\n",
       "    </tr>\n",
       "  </thead>\n",
       "  <tbody>\n",
       "    <tr>\n",
       "      <th>0</th>\n",
       "      <td>1</td>\n",
       "      <td>88 Seafood</td>\n",
       "      <td>5.0</td>\n",
       "      <td>This was my first time eating here. I can tell...</td>\n",
       "      <td>this be my first time eat here i can tell you ...</td>\n",
       "    </tr>\n",
       "    <tr>\n",
       "      <th>1</th>\n",
       "      <td>2</td>\n",
       "      <td>88 Seafood</td>\n",
       "      <td>4.0</td>\n",
       "      <td>Considering that the dining area is next to a ...</td>\n",
       "      <td>consider that the din area be next to a prawn ...</td>\n",
       "    </tr>\n",
       "    <tr>\n",
       "      <th>2</th>\n",
       "      <td>3</td>\n",
       "      <td>88 Seafood</td>\n",
       "      <td>4.0</td>\n",
       "      <td>1st time came was 5 months ago. A decent Cze C...</td>\n",
       "      <td>st time come be month ago a decent cze char or...</td>\n",
       "    </tr>\n",
       "    <tr>\n",
       "      <th>3</th>\n",
       "      <td>4</td>\n",
       "      <td>88 Seafood</td>\n",
       "      <td>5.0</td>\n",
       "      <td>First time experiencing prawning, we spend a g...</td>\n",
       "      <td>first time experience prawn we spend a good hr...</td>\n",
       "    </tr>\n",
       "    <tr>\n",
       "      <th>4</th>\n",
       "      <td>5</td>\n",
       "      <td>88 Seafood</td>\n",
       "      <td>4.0</td>\n",
       "      <td>Outgoing visit on Saturday, September 2023. Fi...</td>\n",
       "      <td>outgo visit on saturday september fishing for ...</td>\n",
       "    </tr>\n",
       "  </tbody>\n",
       "</table>\n",
       "</div>"
      ],
      "text/plain": [
       "   idx       title  stars                                               text  \\\n",
       "0    1  88 Seafood    5.0  This was my first time eating here. I can tell...   \n",
       "1    2  88 Seafood    4.0  Considering that the dining area is next to a ...   \n",
       "2    3  88 Seafood    4.0  1st time came was 5 months ago. A decent Cze C...   \n",
       "3    4  88 Seafood    5.0  First time experiencing prawning, we spend a g...   \n",
       "4    5  88 Seafood    4.0  Outgoing visit on Saturday, September 2023. Fi...   \n",
       "\n",
       "                                        cleaned_text  \n",
       "0  this be my first time eat here i can tell you ...  \n",
       "1  consider that the din area be next to a prawn ...  \n",
       "2  st time come be month ago a decent cze char or...  \n",
       "3  first time experience prawn we spend a good hr...  \n",
       "4  outgo visit on saturday september fishing for ...  "
      ]
     },
     "execution_count": 48,
     "metadata": {},
     "output_type": "execute_result"
    }
   ],
   "source": [
    "#Read in cleaned train data\n",
    "train_df = pd.read_csv('train_data_with_stop.csv')\n",
    "train_df = train_df.dropna(subset=['cleaned_text']).reset_index(drop=True)\n",
    "#train_df['polarity_score'] = train_df['polarity_score'].astype(float)\n",
    "#train_df['subjectivity_score'] = train_df['subjectivity_score'].astype(float)\n",
    "train_df['stars'] = train_df['stars'].astype(float)\n",
    "train_df['text'] = train_df['text'].astype(str)\n",
    "\n",
    "\n",
    "train_df.head()"
   ]
  },
  {
   "cell_type": "code",
   "execution_count": 3,
   "metadata": {},
   "outputs": [
    {
     "data": {
      "text/plain": [
       "<Axes: xlabel='stars', ylabel='count'>"
      ]
     },
     "execution_count": 3,
     "metadata": {},
     "output_type": "execute_result"
    },
    {
     "data": {
      "image/png": "[encoded data removed]",
      "text/plain": [
       "<Figure size 640x480 with 1 Axes>"
      ]
     },
     "metadata": {},
     "output_type": "display_data"
    }
   ],
   "source": [
    "sns.countplot(train_df, x=\"stars\")"
   ]
  },
  {
   "attachments": {},
   "cell_type": "markdown",
   "metadata": {},
   "source": [
    "### Load test data"
   ]
  },
  {
   "cell_type": "code",
   "execution_count": 4,
   "metadata": {},
   "outputs": [],
   "source": [
    "# Remove emojis \n",
    "def remove_emojis(data):\n",
    "    emoj = re.compile(\"[\"\n",
    "        u\"\\U0001F600-\\U0001F64F\"  \n",
    "        u\"\\U0001F300-\\U0001F5FF\"  \n",
    "        u\"\\U0001F680-\\U0001F6FF\"  \n",
    "        u\"\\U0001F1E0-\\U0001F1FF\" \n",
    "        u\"\\U00002500-\\U00002BEF\"  \n",
    "        u\"\\U00002702-\\U000027B0\"\n",
    "        u\"\\U00002702-\\U000027B0\"\n",
    "        u\"\\U000024C2-\\U0001F251\"\n",
    "        u\"\\U0001f926-\\U0001f937\"\n",
    "        u\"\\U00010000-\\U0010ffff\"\n",
    "        u\"\\u2640-\\u2642\" \n",
    "        u\"\\u2600-\\u2B55\"\n",
    "        u\"\\u200d\"\n",
    "        u\"\\u23cf\"\n",
    "        u\"\\u23e9\"\n",
    "        u\"\\u231a\"\n",
    "        u\"\\ufe0f\"  \n",
    "        u\"\\u3030\"\n",
    "                      \"]+\", re.UNICODE)\n",
    "    return re.sub(emoj, '', data)\n",
    "\n",
    "def remove_stopwords(reviews):\n",
    "    STOPWORDS = set(stopwords.words('english'))\n",
    "    custom_stopwords = {'not', 'is', 'but'}\n",
    "    STOPWORDS -= custom_stopwords\n",
    "    if STOPWORDS is None:\n",
    "        STOPWORDS = set(stopwords.words('english'))\n",
    "    # Split the reviews into words and remove stopwords\n",
    "    words = reviews.split()\n",
    "    words_filtered = [word for word in words if word not in STOPWORDS]\n",
    "    \n",
    "    # Join the filtered words back into a string\n",
    "    filtered_reviews = ' '.join(words_filtered)\n",
    "    \n",
    "    return filtered_reviews\n",
    "\n",
    "def remove_extra_whitespace(reviews):\n",
    "    return \" \".join(reviews.split())\n",
    "\n",
    "def get_wordnet_pos(text):\n",
    "    # Map POS tag to first character lemmatize() accepts\n",
    "    tags = nltk.pos_tag(text)\n",
    "    tag_dict = {\"J\": wordnet.ADJ,\n",
    "                \"N\": wordnet.NOUN,\n",
    "                \"V\": wordnet.VERB,\n",
    "                \"R\": wordnet.ADV}\n",
    "    tags = [tag_dict.get(tag[1][0],  wordnet.NOUN) for tag in tags]\n",
    "    return tags\n",
    "\n",
    "def lemmaSentence(reviews):\n",
    "    lemmatizer = WordNetLemmatizer()\n",
    "    lemma_text = ''\n",
    "    tok_text = word_tokenize(reviews)\n",
    "    tags = get_wordnet_pos(tok_text)\n",
    "    for i in range(len(tok_text)):\n",
    "        lemma_text = lemma_text + ' ' + lemmatizer.lemmatize(tok_text[i], tags[i])\n",
    "    return lemma_text[1:]\n",
    "\n",
    "def lower_case(review):\n",
    "    return review.lower()\n",
    "\n",
    "# change contraction words such sa I'm = I am, shouldn't = should not\n",
    "def change_contractions(review):\n",
    "    \n",
    "    expanded_words = [contractions.fix(word) for word in review.split()]\n",
    "\n",
    "    expanded_review = ' '.join(expanded_words)\n",
    "    return expanded_review\n",
    "\n",
    "# Remove Punctuations\n",
    "def remove_punctuations(review):\n",
    "    \n",
    "    new_review = review.translate(str.maketrans('', '', string.punctuation))\n",
    "    return new_review\n",
    "\n",
    "# Remove numbers\n",
    "def remove_numbers(review):\n",
    "    \n",
    "    mapping = str.maketrans('', '', string.digits)\n",
    "    new_review = review.translate(mapping)\n",
    "    \n",
    "    return new_review\n",
    "\n",
    "\n",
    "def clean_text(data):\n",
    "\n",
    "    data = data.apply(lower_case)\n",
    "    data = data.apply(change_contractions)\n",
    "    data = data.apply(remove_emojis)\n",
    "    data = data.apply(remove_punctuations)\n",
    "    data = data.apply(remove_numbers)\n",
    "    data = data.apply(remove_stopwords)\n",
    "    data = data.apply(remove_extra_whitespace)\n",
    "    data = data.apply(lemmaSentence)\n",
    "    \n",
    "    return data\n",
    "\n",
    "def clean_text_withstopword(data):\n",
    "\n",
    "    data = data.apply(lower_case)\n",
    "    data = data.apply(change_contractions)\n",
    "    data = data.apply(remove_emojis)\n",
    "    data = data.apply(remove_punctuations)\n",
    "    data = data.apply(remove_numbers)\n",
    "    #data = data.apply(remove_stopwords)\n",
    "    data = data.apply(remove_extra_whitespace)\n",
    "    data = data.apply(lemmaSentence)\n",
    "    \n",
    "    return data"
   ]
  },
  {
   "cell_type": "code",
   "execution_count": 49,
   "metadata": {},
   "outputs": [],
   "source": [
    "testdf = pd.read_csv(\"eval.csv\")"
   ]
  },
  {
   "cell_type": "code",
   "execution_count": 50,
   "metadata": {},
   "outputs": [],
   "source": [
    "testdf['cleaned_text'] = clean_text(testdf.text)\n",
    "def anno2binary(text):\n",
    "    if text=='POSITIVE':\n",
    "        return 1\n",
    "    else:\n",
    "        return 0\n",
    "testdf['Binary_anno'] = testdf.Polarity_Anno1.apply(anno2binary)"
   ]
  },
  {
   "attachments": {},
   "cell_type": "markdown",
   "metadata": {},
   "source": [
    "### Assign polarity to train data\n",
    "- Stars 4 and above, positive\n",
    "- 1,2,3 stars, negative\n"
   ]
  },
  {
   "cell_type": "code",
   "execution_count": 51,
   "metadata": {},
   "outputs": [],
   "source": [
    "#assign positive/negative labels method 1\n",
    "train_df['sentiment'] = 0\n",
    "train_df.loc[train_df['stars'] >=4, 'sentiment'] = 1 #positive"
   ]
  },
  {
   "cell_type": "code",
   "execution_count": 52,
   "metadata": {},
   "outputs": [],
   "source": [
    "train_df_X = train_df['cleaned_text']\n",
    "train_df_y = train_df['sentiment']"
   ]
  },
  {
   "cell_type": "code",
   "execution_count": 40,
   "metadata": {},
   "outputs": [
    {
     "data": {
      "text/plain": [
       "<Axes: xlabel='sentiment', ylabel='count'>"
      ]
     },
     "execution_count": 40,
     "metadata": {},
     "output_type": "execute_result"
    },
    {
     "data": {
      "image/png": "[encoded data removed]",
      "text/plain": [
       "<Figure size 640x480 with 1 Axes>"
      ]
     },
     "metadata": {},
     "output_type": "display_data"
    }
   ],
   "source": [
    "#visualize distribution. We must balance.\n",
    "sns.countplot(train_df, x=\"sentiment\")"
   ]
  },
  {
   "attachments": {},
   "cell_type": "markdown",
   "metadata": {},
   "source": [
    "### Demo of Word2vec Training\n",
    "Train on Entire data https://stackoverflow.com/questions/77447526/word2vec-to-be-trained-on-train-data-or-whole-data"
   ]
  },
  {
   "cell_type": "code",
   "execution_count": 8,
   "metadata": {},
   "outputs": [],
   "source": [
    "train_df_X_tok = train_df_X.apply(word_tokenize).to_list()"
   ]
  },
  {
   "cell_type": "code",
   "execution_count": 9,
   "metadata": {},
   "outputs": [],
   "source": [
    "w2v_model = Word2Vec(min_count=5,\n",
    "                     window=5,\n",
    "                     sample=6e-5, \n",
    "                     alpha=0.025, \n",
    "                     min_alpha=0.0001, \n",
    "                     negative=5,\n",
    "                     seed=42,\n",
    "                     workers=18)"
   ]
  },
  {
   "cell_type": "code",
   "execution_count": 10,
   "metadata": {},
   "outputs": [],
   "source": [
    "w2v_model.build_vocab(train_df_X_tok, progress_per=10000)"
   ]
  },
  {
   "cell_type": "code",
   "execution_count": 11,
   "metadata": {},
   "outputs": [
    {
     "data": {
      "text/plain": [
       "(6172433, 19065210)"
      ]
     },
     "execution_count": 11,
     "metadata": {},
     "output_type": "execute_result"
    }
   ],
   "source": [
    "w2v_model.train(train_df_X_tok, total_examples=w2v_model.corpus_count, epochs=30, report_delay=1)"
   ]
  },
  {
   "cell_type": "code",
   "execution_count": 12,
   "metadata": {},
   "outputs": [
    {
     "data": {
      "text/plain": [
       "[('delicious', 0.8449707627296448),\n",
       " ('yummy', 0.7936611175537109),\n",
       " ('flavourful', 0.792464554309845),\n",
       " ('solid', 0.7906748056411743),\n",
       " ('gimbap', 0.789482831954956),\n",
       " ('japchae', 0.7393324375152588),\n",
       " ('generous', 0.7385523319244385),\n",
       " ('wellmarinated', 0.7327311038970947),\n",
       " ('appetising', 0.7193870544433594),\n",
       " ('marinated', 0.718366801738739)]"
      ]
     },
     "execution_count": 12,
     "metadata": {},
     "output_type": "execute_result"
    }
   ],
   "source": [
    "w2v_model.wv.most_similar('tasty', topn=10)  # get other similar words"
   ]
  },
  {
   "cell_type": "code",
   "execution_count": 18,
   "metadata": {},
   "outputs": [
    {
     "data": {
      "text/plain": [
       "array([ 3.91677231e-01, -4.87983376e-01,  4.49636757e-01, -6.72886789e-01,\n",
       "       -3.33438814e-02, -6.41418621e-02, -2.64323980e-01,  1.54634371e-01,\n",
       "        1.76780745e-02,  4.92094070e-01, -3.83617610e-01,  3.57526988e-01,\n",
       "       -3.03330004e-01, -7.63048008e-02,  1.89247102e-01, -5.90415359e-01,\n",
       "       -3.01009566e-01, -3.31342965e-01, -5.41094661e-01, -6.00012243e-01,\n",
       "        7.10519195e-01,  7.72076994e-02,  1.67802796e-01,  7.78253675e-01,\n",
       "        2.53232926e-01,  1.64998591e-01, -9.25591648e-01, -3.47038209e-01,\n",
       "        2.25415260e-01,  2.59039849e-01,  2.47793272e-02,  7.60424435e-01,\n",
       "       -2.38322422e-01,  4.36126143e-01, -1.27677903e-01,  5.78171551e-01,\n",
       "       -3.33585613e-03, -1.12549424e-01, -2.37591520e-01,  2.23436132e-01,\n",
       "        5.09431541e-01, -1.19047545e-01, -1.30340710e-01,  5.23960888e-01,\n",
       "        3.26660722e-01,  2.01577097e-01,  2.40842178e-01,  2.93012619e-01,\n",
       "        2.40843281e-01, -5.17028272e-01, -4.64557141e-01, -2.82701701e-01,\n",
       "        3.30643684e-01, -3.67337227e-01, -8.41221809e-01, -2.01920241e-01,\n",
       "       -4.18482989e-01, -1.84351370e-01,  1.11615233e-01,  6.67153418e-01,\n",
       "        7.23871648e-01,  7.49510050e-01, -4.92476970e-01,  7.56601930e-01,\n",
       "        9.81744826e-01, -8.86865497e-01,  4.57232803e-01, -2.10788742e-01,\n",
       "        4.86564270e-04, -5.53457998e-02,  3.10973078e-01, -7.28567302e-01,\n",
       "        1.38512909e-01, -9.02288631e-02,  3.44051421e-01, -1.60488293e-01,\n",
       "        1.38291836e-01,  5.13966858e-01,  9.20558751e-01,  2.89648890e-01,\n",
       "        1.88272506e-01, -6.30118072e-01,  3.38403195e-01,  3.45113486e-01,\n",
       "       -5.83608568e-01, -9.76791501e-01,  4.14630175e-02, -6.47190928e-01,\n",
       "       -6.34989083e-01,  4.40511882e-01,  3.25726807e-01,  1.95038825e-01,\n",
       "       -3.75783324e-01,  8.61187130e-02, -3.21471453e-01,  2.60228157e-01,\n",
       "        6.86939716e-01, -3.96346778e-01, -8.03406954e-01,  1.53325856e-01],\n",
       "      dtype=float32)"
      ]
     },
     "execution_count": 18,
     "metadata": {},
     "output_type": "execute_result"
    }
   ],
   "source": [
    "w2v_model.wv['tasty']"
   ]
  },
  {
   "cell_type": "code",
   "execution_count": 14,
   "metadata": {},
   "outputs": [
    {
     "data": {
      "text/plain": [
       "0       this be my first time eat here i can tell you ...\n",
       "1       consider that the din area be next to a prawn ...\n",
       "2       st time come be month ago a decent cze char or...\n",
       "3       first time experience prawn we spend a good hr...\n",
       "4       outgo visit on saturday september fishing for ...\n",
       "                              ...                        \n",
       "9598    food portion be big in comparison to most tze ...\n",
       "9599    affordable zichar stall locate in a coffeeshop...\n",
       "9600    beef hor fan thick gravy savoury with beef sli...\n",
       "9601    order chicken fry rice with extra egg and beef...\n",
       "9602                     egg be tasty but oyster not good\n",
       "Name: cleaned_text, Length: 9603, dtype: object"
      ]
     },
     "execution_count": 14,
     "metadata": {},
     "output_type": "execute_result"
    }
   ],
   "source": [
    "train_df_X"
   ]
  },
  {
   "cell_type": "code",
   "execution_count": 39,
   "metadata": {},
   "outputs": [],
   "source": [
    "def convert_text2vec(text, w2v_model):\n",
    "    vecs = []\n",
    "    for word in text.split():\n",
    "        if word in w2v_model.wv and word not in stopwords.words('english'):\n",
    "            vecs.append(w2v_model.wv[word])\n",
    "    \n",
    "    if len(vecs)>0:\n",
    "        return np.mean(vecs,axis=0)\n",
    "    else:\n",
    "        return np.zeros(100)"
   ]
  },
  {
   "cell_type": "code",
   "execution_count": 40,
   "metadata": {},
   "outputs": [
    {
     "data": {
      "text/plain": [
       "array([[ 0.35377362,  0.07539615, -0.04737797, ...,  0.06182289,\n",
       "        -0.16208981,  0.04639178],\n",
       "       [ 0.28550416, -0.17987567,  0.12997203, ..., -0.05489481,\n",
       "        -0.00591396,  0.02173356],\n",
       "       [ 0.26472116, -0.09528446,  0.00627039, ..., -0.09584538,\n",
       "        -0.0700259 , -0.00199933],\n",
       "       ...,\n",
       "       [ 0.07458516, -0.70066637,  0.17170674, ..., -0.34141955,\n",
       "         0.20200571,  0.13863602],\n",
       "       [ 0.03509334, -0.60170221,  0.08558548, ..., -0.28042042,\n",
       "         0.21617328,  0.0381618 ],\n",
       "       [ 0.29852828, -0.51749307, -0.07067142, ..., -0.31900039,\n",
       "        -0.08223026,  0.19606993]])"
      ]
     },
     "execution_count": 40,
     "metadata": {},
     "output_type": "execute_result"
    }
   ],
   "source": [
    "vecs = train_df_X.apply(convert_text2vec)\n",
    "np.stack(vecs.values)"
   ]
  },
  {
   "cell_type": "code",
   "execution_count": 45,
   "metadata": {},
   "outputs": [],
   "source": [
    "#train v2v and get vectors on the set\n",
    "def w2v(train_df_X, ep):\n",
    "    w2v_model = Word2Vec(min_count=5,\n",
    "                     window=5,\n",
    "                     sample=6e-5, \n",
    "                     alpha=0.025, \n",
    "                     min_alpha=0.0001, \n",
    "                     negative=5,\n",
    "                     seed=42,\n",
    "                     workers=18)\n",
    "    train_df_X_tok = train_df_X.apply(word_tokenize).to_list()\n",
    "    w2v_model.build_vocab(train_df_X_tok, progress_per=10000)\n",
    "    w2v_model.train(train_df_X_tok, total_examples=w2v_model.corpus_count, epochs=ep, report_delay=1)\n",
    "    vecs = train_df_X.apply(lambda x: convert_text2vec(x, w2v_model))\n",
    "    return vecs, w2v_model"
   ]
  },
  {
   "cell_type": "markdown",
   "metadata": {},
   "source": [
    "### Classification"
   ]
  },
  {
   "cell_type": "code",
   "execution_count": 14,
   "metadata": {},
   "outputs": [
    {
     "name": "stdout",
     "output_type": "stream",
     "text": [
      "Key with maximum value: c\n",
      "Maximum value: 20\n"
     ]
    }
   ],
   "source": [
    "#For gridsearching optimal hyperparameters\n",
    "def max_key_for_max_value(dictionary):\n",
    "    if not dictionary:  # If the dictionary is empty\n",
    "        return None, None\n",
    "\n",
    "    max_value = max(dictionary.values())  # Find the maximum value in the dictionary\n",
    "    max_key = None\n",
    "\n",
    "    for key, value in dictionary.items():\n",
    "        if value == max_value:\n",
    "            max_key = key\n",
    "\n",
    "    return max_key, max_value\n",
    "\n",
    "# Example usage:\n",
    "my_dict = {'a': 10, 'b': 20, 'c': 20, 'd': 15}\n",
    "max_key, max_value = max_key_for_max_value(my_dict)\n",
    "print(\"Key with maximum value:\", max_key)\n",
    "print(\"Maximum value:\", max_value)\n"
   ]
  },
  {
   "attachments": {},
   "cell_type": "markdown",
   "metadata": {},
   "source": [
    "### Model 1: w2v + SVM"
   ]
  },
  {
   "cell_type": "code",
   "execution_count": 41,
   "metadata": {},
   "outputs": [
    {
     "name": "stdout",
     "output_type": "stream",
     "text": [
      "{'C': 0.5, 'gamma': 'scale', 'kernel': 'rbf', 'ep': 5} 5\n",
      "{'C': 0.5, 'gamma': 'auto', 'kernel': 'rbf', 'ep': 5} 5\n",
      "{'C': 1, 'gamma': 'scale', 'kernel': 'rbf', 'ep': 5} 5\n",
      "{'C': 1, 'gamma': 'auto', 'kernel': 'rbf', 'ep': 5} 5\n",
      "{'C': 5, 'gamma': 'scale', 'kernel': 'rbf', 'ep': 5} 5\n",
      "{'C': 5, 'gamma': 'auto', 'kernel': 'rbf', 'ep': 5} 5\n",
      "{'C': 10, 'gamma': 'scale', 'kernel': 'rbf', 'ep': 5} 5\n",
      "{'C': 10, 'gamma': 'auto', 'kernel': 'rbf', 'ep': 5} 5\n",
      "{'C': 0.5, 'gamma': 'scale', 'kernel': 'rbf', 'ep': 10} 10\n",
      "{'C': 0.5, 'gamma': 'auto', 'kernel': 'rbf', 'ep': 10} 10\n",
      "{'C': 1, 'gamma': 'scale', 'kernel': 'rbf', 'ep': 10} 10\n",
      "{'C': 1, 'gamma': 'auto', 'kernel': 'rbf', 'ep': 10} 10\n",
      "{'C': 5, 'gamma': 'scale', 'kernel': 'rbf', 'ep': 10} 10\n",
      "{'C': 5, 'gamma': 'auto', 'kernel': 'rbf', 'ep': 10} 10\n",
      "{'C': 10, 'gamma': 'scale', 'kernel': 'rbf', 'ep': 10} 10\n",
      "{'C': 10, 'gamma': 'auto', 'kernel': 'rbf', 'ep': 10} 10\n",
      "{'C': 0.5, 'gamma': 'scale', 'kernel': 'rbf', 'ep': 15} 15\n",
      "{'C': 0.5, 'gamma': 'auto', 'kernel': 'rbf', 'ep': 15} 15\n",
      "{'C': 1, 'gamma': 'scale', 'kernel': 'rbf', 'ep': 15} 15\n",
      "{'C': 1, 'gamma': 'auto', 'kernel': 'rbf', 'ep': 15} 15\n",
      "{'C': 5, 'gamma': 'scale', 'kernel': 'rbf', 'ep': 15} 15\n",
      "{'C': 5, 'gamma': 'auto', 'kernel': 'rbf', 'ep': 15} 15\n",
      "{'C': 10, 'gamma': 'scale', 'kernel': 'rbf', 'ep': 15} 15\n",
      "{'C': 10, 'gamma': 'auto', 'kernel': 'rbf', 'ep': 15} 15\n",
      "{'C': 0.5, 'gamma': 'scale', 'kernel': 'rbf', 'ep': 20} 20\n",
      "{'C': 0.5, 'gamma': 'auto', 'kernel': 'rbf', 'ep': 20} 20\n",
      "{'C': 1, 'gamma': 'scale', 'kernel': 'rbf', 'ep': 20} 20\n",
      "{'C': 1, 'gamma': 'auto', 'kernel': 'rbf', 'ep': 20} 20\n",
      "{'C': 5, 'gamma': 'scale', 'kernel': 'rbf', 'ep': 20} 20\n",
      "{'C': 5, 'gamma': 'auto', 'kernel': 'rbf', 'ep': 20} 20\n",
      "{'C': 10, 'gamma': 'scale', 'kernel': 'rbf', 'ep': 20} 20\n",
      "{'C': 10, 'gamma': 'auto', 'kernel': 'rbf', 'ep': 20} 20\n",
      "{'C': 0.5, 'gamma': 'scale', 'kernel': 'rbf', 'ep': 25} 25\n",
      "{'C': 0.5, 'gamma': 'auto', 'kernel': 'rbf', 'ep': 25} 25\n",
      "{'C': 1, 'gamma': 'scale', 'kernel': 'rbf', 'ep': 25} 25\n",
      "{'C': 1, 'gamma': 'auto', 'kernel': 'rbf', 'ep': 25} 25\n",
      "{'C': 5, 'gamma': 'scale', 'kernel': 'rbf', 'ep': 25} 25\n",
      "{'C': 5, 'gamma': 'auto', 'kernel': 'rbf', 'ep': 25} 25\n",
      "{'C': 10, 'gamma': 'scale', 'kernel': 'rbf', 'ep': 25} 25\n",
      "{'C': 10, 'gamma': 'auto', 'kernel': 'rbf', 'ep': 25} 25\n",
      "{'C': 0.5, 'gamma': 'scale', 'kernel': 'rbf', 'ep': 30} 30\n",
      "{'C': 0.5, 'gamma': 'auto', 'kernel': 'rbf', 'ep': 30} 30\n",
      "{'C': 1, 'gamma': 'scale', 'kernel': 'rbf', 'ep': 30} 30\n",
      "{'C': 1, 'gamma': 'auto', 'kernel': 'rbf', 'ep': 30} 30\n",
      "{'C': 5, 'gamma': 'scale', 'kernel': 'rbf', 'ep': 30} 30\n",
      "{'C': 5, 'gamma': 'auto', 'kernel': 'rbf', 'ep': 30} 30\n",
      "{'C': 10, 'gamma': 'scale', 'kernel': 'rbf', 'ep': 30} 30\n",
      "{'C': 10, 'gamma': 'auto', 'kernel': 'rbf', 'ep': 30} 30\n"
     ]
    }
   ],
   "source": [
    "kf = StratifiedKFold(n_splits=5, shuffle=True, random_state=42)\n",
    "param_grid = {'C': [0.5,1, 5, 10], 'kernel': ['rbf'], 'gamma':['scale','auto']}\n",
    "param_grid = ParameterGrid(param_grid)\n",
    "f1_scores = {}\n",
    "for ep in [5,10,15,20,25,30]:\n",
    "    #train w2v\n",
    "    train_df_vecs, w2v_model = w2v(train_df_X,ep)\n",
    "\n",
    "    for param in param_grid:\n",
    "        param_f1 = []\n",
    "        for train_index, test_index in kf.split(train_df_vecs, train_df_y):\n",
    "            #split into train and val\n",
    "            X_train, X_test = train_df_vecs[train_index],train_df_vecs[test_index]\n",
    "            y_train, y_test = train_df_y[train_index], train_df_y[test_index]\n",
    "\n",
    "\n",
    "            #Split into majority and minority for undersampling here\n",
    "            X_train_majority_class = X_train[y_train == 1]\n",
    "            y_train_majority_class = y_train[y_train == 1]\n",
    "            X_train_minority_class = X_train[y_train == 0]\n",
    "            y_train_minority_class = y_train[y_train == 0]\n",
    "\n",
    "            # Downsample majority class only\n",
    "            X_train_majority_downsampled,y_train_majority_downsampled = resample(X_train_majority_class,y_train_majority_class, \n",
    "                                            replace=False,    # sample without replacement\n",
    "                                            n_samples=len(X_train_minority_class),   # to match minority class\n",
    "                                            random_state=42)  # reproducible results\n",
    "\n",
    "            # Combine minority class with downsampled majority class\n",
    "            X_train_balanced = pd.concat([X_train_majority_downsampled, X_train_minority_class])\n",
    "            y_train_balanced = pd.concat([y_train_majority_downsampled, y_train_minority_class])\n",
    "\n",
    "\n",
    "            X_train_vector = np.stack(X_train_balanced.values)\n",
    "            X_test_vector = np.stack(X_test.values)\n",
    "\n",
    "            svc = svm.SVC(**param)\n",
    "            svc.fit(X_train_vector, y_train_balanced)\n",
    "            \n",
    "            y_pred = svc.predict(X_test_vector)\n",
    "\n",
    "            f1 = f1_score(y_test, y_pred, average='macro')\n",
    "            param_f1.append(f1)\n",
    "        param['ep'] = ep\n",
    "        param_str = str(param)\n",
    "        f1_scores[param_str] = mean(param_f1)\n",
    "        print(param, ep)\n",
    "\n"
   ]
  },
  {
   "cell_type": "code",
   "execution_count": 43,
   "metadata": {},
   "outputs": [
    {
     "data": {
      "text/plain": [
       "(\"{'C': 10, 'gamma': 'auto', 'kernel': 'rbf', 'ep': 30}\", 0.8142020080337122)"
      ]
     },
     "execution_count": 43,
     "metadata": {},
     "output_type": "execute_result"
    }
   ],
   "source": [
    "max_key_for_max_value(f1_scores)"
   ]
  },
  {
   "cell_type": "code",
   "execution_count": 77,
   "metadata": {},
   "outputs": [
    {
     "name": "stdout",
     "output_type": "stream",
     "text": [
      "Time taken to predict test set = 3.766688346862793s\n"
     ]
    }
   ],
   "source": [
    "# Fit optimal hyperparameters on entire train data\n",
    "ep = 30\n",
    "train_df_vecs, w2v_model = w2v(train_df_X,ep)\n",
    "train_X = train_df_vecs\n",
    "\n",
    "#Split into majority and minority for undersampling here\n",
    "X_train_majority_class = train_X[train_df_y == 1]\n",
    "y_train_majority_class = train_df_y[train_df_y == 1]\n",
    "X_train_minority_class = train_X[train_df_y == 0]\n",
    "y_train_minority_class = train_df_y[train_df_y == 0]\n",
    "\n",
    "# Downsample majority class only\n",
    "X_train_majority_downsampled,y_train_majority_downsampled = resample(X_train_majority_class,y_train_majority_class, \n",
    "                        replace=False,    # sample without replacement\n",
    "                        n_samples=len(X_train_minority_class),   # to match minority class\n",
    "                        random_state=42)  # reproducible results\n",
    "\n",
    "# Combine minority class with downsampled majority class\n",
    "X_train_balanced = pd.concat([X_train_majority_downsampled, X_train_minority_class])\n",
    "y_train_balanced = pd.concat([y_train_majority_downsampled, y_train_minority_class])\n",
    "\n",
    "X_train_vector = np.stack(X_train_balanced.values)\n",
    "\n",
    "\n",
    "svc = svm.SVC(C= 10, gamma= 'auto', kernel= 'rbf') #Optimal hyperparameters here\n",
    "svc.fit(X_train_vector, y_train_balanced)\n",
    "\n",
    "\n",
    "#Apply fitted model to test\n",
    "start = time()\n",
    "X_test_vector = testdf.cleaned_text.apply(lambda x: convert_text2vec(x, w2v_model))\n",
    "X_test_vector = np.stack(X_test_vector.values)\n",
    "y_test_pred = svc.predict(X_test_vector)\n",
    "end = time()\n",
    "y_test_gt = testdf.Binary_anno\n",
    "print(f\"Time taken to predict test set = {end-start}s\")"
   ]
  },
  {
   "cell_type": "code",
   "execution_count": 78,
   "metadata": {},
   "outputs": [
    {
     "data": {
      "text/plain": [
       "283.53819101851576"
      ]
     },
     "execution_count": 78,
     "metadata": {},
     "output_type": "execute_result"
    }
   ],
   "source": [
    "1068/(end-start)"
   ]
  },
  {
   "cell_type": "code",
   "execution_count": 60,
   "metadata": {},
   "outputs": [
    {
     "name": "stdout",
     "output_type": "stream",
     "text": [
      "              precision    recall  f1-score   support\n",
      "\n",
      "           0       0.58      0.91      0.71       220\n",
      "           1       0.97      0.83      0.89       848\n",
      "\n",
      "    accuracy                           0.84      1068\n",
      "   macro avg       0.78      0.87      0.80      1068\n",
      "weighted avg       0.89      0.84      0.86      1068\n",
      "\n"
     ]
    }
   ],
   "source": [
    "print(classification_report(y_test_gt, y_test_pred))"
   ]
  },
  {
   "attachments": {},
   "cell_type": "markdown",
   "metadata": {},
   "source": [
    "### Model 2: w2v + Random Forest"
   ]
  },
  {
   "cell_type": "code",
   "execution_count": 61,
   "metadata": {},
   "outputs": [
    {
     "name": "stdout",
     "output_type": "stream",
     "text": [
      "{'ccp_alpha': 0, 'max_depth': 5, 'max_features': 'sqrt', 'n_estimators': 100, 'n_jobs': -1, 'ep': 30} 30\n",
      "{'ccp_alpha': 0, 'max_depth': 5, 'max_features': 'sqrt', 'n_estimators': 200, 'n_jobs': -1, 'ep': 30} 30\n",
      "{'ccp_alpha': 0, 'max_depth': 5, 'max_features': 'sqrt', 'n_estimators': 250, 'n_jobs': -1, 'ep': 30} 30\n",
      "{'ccp_alpha': 0, 'max_depth': 10, 'max_features': 'sqrt', 'n_estimators': 100, 'n_jobs': -1, 'ep': 30} 30\n",
      "{'ccp_alpha': 0, 'max_depth': 10, 'max_features': 'sqrt', 'n_estimators': 200, 'n_jobs': -1, 'ep': 30} 30\n",
      "{'ccp_alpha': 0, 'max_depth': 10, 'max_features': 'sqrt', 'n_estimators': 250, 'n_jobs': -1, 'ep': 30} 30\n",
      "{'ccp_alpha': 0, 'max_depth': 20, 'max_features': 'sqrt', 'n_estimators': 100, 'n_jobs': -1, 'ep': 30} 30\n",
      "{'ccp_alpha': 0, 'max_depth': 20, 'max_features': 'sqrt', 'n_estimators': 200, 'n_jobs': -1, 'ep': 30} 30\n",
      "{'ccp_alpha': 0, 'max_depth': 20, 'max_features': 'sqrt', 'n_estimators': 250, 'n_jobs': -1, 'ep': 30} 30\n",
      "{'ccp_alpha': 0, 'max_depth': None, 'max_features': 'sqrt', 'n_estimators': 100, 'n_jobs': -1, 'ep': 30} 30\n",
      "{'ccp_alpha': 0, 'max_depth': None, 'max_features': 'sqrt', 'n_estimators': 200, 'n_jobs': -1, 'ep': 30} 30\n",
      "{'ccp_alpha': 0, 'max_depth': None, 'max_features': 'sqrt', 'n_estimators': 250, 'n_jobs': -1, 'ep': 30} 30\n"
     ]
    }
   ],
   "source": [
    "kf = StratifiedKFold(n_splits=5, shuffle=True, random_state=42)\n",
    "param_grid = {'n_estimators': [100,200,250], 'max_depth':[5,10,20,None],'ccp_alpha':[0], 'max_features':['sqrt'],'n_jobs':[-1]}\n",
    "param_grid = ParameterGrid(param_grid)\n",
    "f1_scores = {}\n",
    "for ep in [5,10,15,20,25,30]:\n",
    "    #train w2v\n",
    "    train_df_vecs, w2v_model = w2v(train_df_X,ep)\n",
    "\n",
    "    for param in param_grid:\n",
    "        param_f1 = []\n",
    "        for train_index, test_index in kf.split(train_df_vecs, train_df_y):\n",
    "            #split into train and val\n",
    "            X_train, X_test = train_df_vecs[train_index],train_df_vecs[test_index]\n",
    "            y_train, y_test = train_df_y[train_index], train_df_y[test_index]\n",
    "\n",
    "\n",
    "            #Split into majority and minority for undersampling here\n",
    "            X_train_majority_class = X_train[y_train == 1]\n",
    "            y_train_majority_class = y_train[y_train == 1]\n",
    "            X_train_minority_class = X_train[y_train == 0]\n",
    "            y_train_minority_class = y_train[y_train == 0]\n",
    "\n",
    "            # Downsample majority class only\n",
    "            X_train_majority_downsampled,y_train_majority_downsampled = resample(X_train_majority_class,y_train_majority_class, \n",
    "                                            replace=False,    # sample without replacement\n",
    "                                            n_samples=len(X_train_minority_class),   # to match minority class\n",
    "                                            random_state=42)  # reproducible results\n",
    "\n",
    "            # Combine minority class with downsampled majority class\n",
    "            X_train_balanced = pd.concat([X_train_majority_downsampled, X_train_minority_class])\n",
    "            y_train_balanced = pd.concat([y_train_majority_downsampled, y_train_minority_class])\n",
    "\n",
    "\n",
    "            X_train_vector = np.stack(X_train_balanced.values)\n",
    "            X_test_vector = np.stack(X_test.values)\n",
    "\n",
    "            rfc = RandomForestClassifier(**param)\n",
    "            rfc.fit(X_train_vector, y_train_balanced)\n",
    "            \n",
    "            y_pred = rfc.predict(X_test_vector)\n",
    "\n",
    "            f1 = f1_score(y_test, y_pred, average='macro')\n",
    "            param_f1.append(f1)\n",
    "        param['ep'] = ep\n",
    "        param_str = str(param)\n",
    "        f1_scores[param_str] = mean(param_f1)\n",
    "        print(param, ep)\n",
    "\n"
   ]
  },
  {
   "cell_type": "code",
   "execution_count": 62,
   "metadata": {},
   "outputs": [
    {
     "data": {
      "text/plain": [
       "(\"{'ccp_alpha': 0, 'max_depth': 10, 'max_features': 'sqrt', 'n_estimators': 250, 'n_jobs': -1, 'ep': 30}\",\n",
       " 0.8028815418999712)"
      ]
     },
     "execution_count": 62,
     "metadata": {},
     "output_type": "execute_result"
    }
   ],
   "source": [
    "max_key_for_max_value(f1_scores)"
   ]
  },
  {
   "cell_type": "code",
   "execution_count": 79,
   "metadata": {},
   "outputs": [
    {
     "name": "stdout",
     "output_type": "stream",
     "text": [
      "Time taken to predict test set = 3.5647997856140137s\n"
     ]
    }
   ],
   "source": [
    "# Fit optimal hyperparameters on entire train data\n",
    "ep = 30\n",
    "train_df_vecs, w2v_model = w2v(train_df_X,ep)\n",
    "train_X = train_df_vecs\n",
    "\n",
    "#Split into majority and minority for undersampling here\n",
    "X_train_majority_class = train_X[train_df_y == 1]\n",
    "y_train_majority_class = train_df_y[train_df_y == 1]\n",
    "X_train_minority_class = train_X[train_df_y == 0]\n",
    "y_train_minority_class = train_df_y[train_df_y == 0]\n",
    "\n",
    "# Downsample majority class only\n",
    "X_train_majority_downsampled,y_train_majority_downsampled = resample(X_train_majority_class,y_train_majority_class, \n",
    "                        replace=False,    # sample without replacement\n",
    "                        n_samples=len(X_train_minority_class),   # to match minority class\n",
    "                        random_state=42)  # reproducible results\n",
    "\n",
    "# Combine minority class with downsampled majority class\n",
    "X_train_balanced = pd.concat([X_train_majority_downsampled, X_train_minority_class])\n",
    "y_train_balanced = pd.concat([y_train_majority_downsampled, y_train_minority_class])\n",
    "\n",
    "X_train_vector = np.stack(X_train_balanced.values)\n",
    "\n",
    "\n",
    "rfc = RandomForestClassifier(ccp_alpha= 0, max_depth= 10, max_features= 'sqrt', n_estimators= 250, n_jobs= -1) #Optimal hyperparameters here\n",
    "rfc.fit(X_train_vector, y_train_balanced)\n",
    "\n",
    "\n",
    "#Apply fitted model to test\n",
    "start = time()\n",
    "X_test_vector = testdf.cleaned_text.apply(lambda x: convert_text2vec(x, w2v_model))\n",
    "X_test_vector = np.stack(X_test_vector.values)\n",
    "y_test_pred = rfc.predict(X_test_vector)\n",
    "end = time()\n",
    "y_test_gt = testdf.Binary_anno\n",
    "print(f\"Time taken to predict test set = {end-start}s\")"
   ]
  },
  {
   "cell_type": "code",
   "execution_count": 80,
   "metadata": {},
   "outputs": [
    {
     "data": {
      "text/plain": [
       "299.59606828691614"
      ]
     },
     "execution_count": 80,
     "metadata": {},
     "output_type": "execute_result"
    }
   ],
   "source": [
    "1068/(end-start)"
   ]
  },
  {
   "cell_type": "code",
   "execution_count": 65,
   "metadata": {},
   "outputs": [
    {
     "name": "stdout",
     "output_type": "stream",
     "text": [
      "              precision    recall  f1-score   support\n",
      "\n",
      "           0       0.59      0.88      0.70       220\n",
      "           1       0.96      0.84      0.90       848\n",
      "\n",
      "    accuracy                           0.85      1068\n",
      "   macro avg       0.78      0.86      0.80      1068\n",
      "weighted avg       0.89      0.85      0.86      1068\n",
      "\n"
     ]
    }
   ],
   "source": [
    "print(classification_report(y_test_gt, y_test_pred))"
   ]
  },
  {
   "attachments": {},
   "cell_type": "markdown",
   "metadata": {},
   "source": [
    "### Model 3: W2V + Naive Bayes"
   ]
  },
  {
   "cell_type": "code",
   "execution_count": 72,
   "metadata": {},
   "outputs": [
    {
     "name": "stdout",
     "output_type": "stream",
     "text": [
      "{'alpha': 1, 'ep': 5} 5\n",
      "{'alpha': 1, 'ep': 10} 10\n",
      "{'alpha': 1, 'ep': 15} 15\n",
      "{'alpha': 1, 'ep': 20} 20\n",
      "{'alpha': 1, 'ep': 25} 25\n",
      "{'alpha': 1, 'ep': 30} 30\n",
      "{'alpha': 1, 'ep': 40} 40\n"
     ]
    }
   ],
   "source": [
    "kf = StratifiedKFold(n_splits=5, shuffle=True, random_state=42)\n",
    "param_grid = {'alpha':[1]}\n",
    "param_grid = ParameterGrid(param_grid)\n",
    "f1_scores = {}\n",
    "for ep in [5,10,15,20,25,30,40]:\n",
    "    #train w2v\n",
    "    train_df_vecs, w2v_model = w2v(train_df_X,ep)\n",
    "\n",
    "    for param in param_grid:\n",
    "        param_f1 = []\n",
    "        for train_index, test_index in kf.split(train_df_vecs, train_df_y):\n",
    "            #split into train and val\n",
    "            X_train, X_test = train_df_vecs[train_index],train_df_vecs[test_index]\n",
    "            y_train, y_test = train_df_y[train_index], train_df_y[test_index]\n",
    "\n",
    "\n",
    "            #Split into majority and minority for undersampling here\n",
    "            X_train_majority_class = X_train[y_train == 1]\n",
    "            y_train_majority_class = y_train[y_train == 1]\n",
    "            X_train_minority_class = X_train[y_train == 0]\n",
    "            y_train_minority_class = y_train[y_train == 0]\n",
    "\n",
    "            # Downsample majority class only\n",
    "            X_train_majority_downsampled,y_train_majority_downsampled = resample(X_train_majority_class,y_train_majority_class, \n",
    "                                            replace=False,    # sample without replacement\n",
    "                                            n_samples=len(X_train_minority_class),   # to match minority class\n",
    "                                            random_state=42)  # reproducible results\n",
    "\n",
    "            # Combine minority class with downsampled majority class\n",
    "            X_train_balanced = pd.concat([X_train_majority_downsampled, X_train_minority_class])\n",
    "            y_train_balanced = pd.concat([y_train_majority_downsampled, y_train_minority_class])\n",
    "\n",
    "\n",
    "            X_train_vector = np.stack(X_train_balanced.values)\n",
    "            X_test_vector = np.stack(X_test.values)\n",
    "            \n",
    "            scaler = MinMaxScaler()\n",
    "            X_train_vector = scaler.fit_transform(X_train_vector)\n",
    "            X_test_vector = scaler.transform(X_test_vector)\n",
    "            nbc = MultinomialNB(**param)\n",
    "            nbc.fit(X_train_vector, y_train_balanced)\n",
    "            \n",
    "            y_pred = nbc.predict(X_test_vector)\n",
    "\n",
    "            f1 = f1_score(y_test, y_pred, average='macro')\n",
    "            param_f1.append(f1)\n",
    "        param['ep'] = ep\n",
    "        param_str = str(param)\n",
    "        f1_scores[param_str] = mean(param_f1)\n",
    "        print(param, ep)\n",
    "\n"
   ]
  },
  {
   "cell_type": "code",
   "execution_count": 73,
   "metadata": {},
   "outputs": [
    {
     "data": {
      "text/plain": [
       "(\"{'alpha': 1, 'ep': 40}\", 0.7733665415202183)"
      ]
     },
     "execution_count": 73,
     "metadata": {},
     "output_type": "execute_result"
    }
   ],
   "source": [
    "max_key_for_max_value(f1_scores)"
   ]
  },
  {
   "cell_type": "code",
   "execution_count": 83,
   "metadata": {},
   "outputs": [
    {
     "name": "stdout",
     "output_type": "stream",
     "text": [
      "Time taken to predict test set = 3.6200110912323s\n"
     ]
    }
   ],
   "source": [
    "# Fit optimal hyperparameters on entire train data\n",
    "ep = 30\n",
    "train_df_vecs, w2v_model = w2v(train_df_X,ep)\n",
    "train_X = train_df_vecs\n",
    "\n",
    "#Split into majority and minority for undersampling here\n",
    "X_train_majority_class = train_X[train_df_y == 1]\n",
    "y_train_majority_class = train_df_y[train_df_y == 1]\n",
    "X_train_minority_class = train_X[train_df_y == 0]\n",
    "y_train_minority_class = train_df_y[train_df_y == 0]\n",
    "\n",
    "# Downsample majority class only\n",
    "X_train_majority_downsampled,y_train_majority_downsampled = resample(X_train_majority_class,y_train_majority_class, \n",
    "                        replace=False,    # sample without replacement\n",
    "                        n_samples=len(X_train_minority_class),   # to match minority class\n",
    "                        random_state=42)  # reproducible results\n",
    "\n",
    "# Combine minority class with downsampled majority class\n",
    "X_train_balanced = pd.concat([X_train_majority_downsampled, X_train_minority_class])\n",
    "y_train_balanced = pd.concat([y_train_majority_downsampled, y_train_minority_class])\n",
    "\n",
    "X_train_vector = np.stack(X_train_balanced.values)\n",
    "\n",
    "scaler = MinMaxScaler()\n",
    "X_train_vector = scaler.fit_transform(X_train_vector)\n",
    "X_test_vector = scaler.transform(X_test_vector)\n",
    "nbc = MultinomialNB() #Optimal hyperparameters here\n",
    "nbc.fit(X_train_vector, y_train_balanced)\n",
    "\n",
    "\n",
    "#Apply fitted model to test\n",
    "start = time()\n",
    "X_test_vector = testdf.cleaned_text.apply(lambda x: convert_text2vec(x, w2v_model))\n",
    "X_test_vector = np.stack(X_test_vector.values)\n",
    "y_test_pred = nbc.predict(X_test_vector)\n",
    "end = time()\n",
    "y_test_gt = testdf.Binary_anno\n",
    "print(f\"Time taken to predict test set = {end-start}s\")"
   ]
  },
  {
   "cell_type": "code",
   "execution_count": 84,
   "metadata": {},
   "outputs": [
    {
     "data": {
      "text/plain": [
       "295.0267203840082"
      ]
     },
     "execution_count": 84,
     "metadata": {},
     "output_type": "execute_result"
    }
   ],
   "source": [
    "1068/(end-start)"
   ]
  },
  {
   "cell_type": "code",
   "execution_count": 75,
   "metadata": {},
   "outputs": [
    {
     "name": "stdout",
     "output_type": "stream",
     "text": [
      "              precision    recall  f1-score   support\n",
      "\n",
      "           0       0.40      0.95      0.56       220\n",
      "           1       0.98      0.62      0.76       848\n",
      "\n",
      "    accuracy                           0.69      1068\n",
      "   macro avg       0.69      0.79      0.66      1068\n",
      "weighted avg       0.86      0.69      0.72      1068\n",
      "\n"
     ]
    }
   ],
   "source": [
    "print(classification_report(y_test_gt, y_test_pred))"
   ]
  }
 ],
 "metadata": {
  "kernelspec": {
   "display_name": "base",
   "language": "python",
   "name": "python3"
  },
  "language_info": {
   "codemirror_mode": {
    "name": "ipython",
    "version": 3
   },
   "file_extension": ".py",
   "mimetype": "text/x-python",
   "name": "python",
   "nbconvert_exporter": "python",
   "pygments_lexer": "ipython3",
   "version": "3.10.9"
  },
  "orig_nbformat": 4
 },
 "nbformat": 4,
 "nbformat_minor": 2
}
