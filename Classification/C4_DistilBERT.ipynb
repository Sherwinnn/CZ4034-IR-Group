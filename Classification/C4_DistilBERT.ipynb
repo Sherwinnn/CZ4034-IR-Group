{
 "cells": [
  {
   "cell_type": "code",
   "execution_count": 1,
   "metadata": {},
   "outputs": [
    {
     "name": "stderr",
     "output_type": "stream",
     "text": [
      "[nltk_data] Downloading package punkt to\n",
      "[nltk_data]     C:\\Users\\limju\\AppData\\Roaming\\nltk_data...\n",
      "[nltk_data]   Package punkt is already up-to-date!\n",
      "[nltk_data] Downloading package stopwords to\n",
      "[nltk_data]     C:\\Users\\limju\\AppData\\Roaming\\nltk_data...\n",
      "[nltk_data]   Package stopwords is already up-to-date!\n"
     ]
    }
   ],
   "source": [
    "import pandas as pd\n",
    "import matplotlib.pyplot as plt\n",
    "import seaborn as sns\n",
    "import nltk\n",
    "from sklearn.feature_extraction.text import TfidfVectorizer\n",
    "from sklearn.model_selection import train_test_split\n",
    "from sklearn.metrics import accuracy_score\n",
    "nltk.download('punkt')\n",
    "nltk.download('stopwords')\n",
    "#from spellchecker import SpellChecker\n",
    "from sklearn.model_selection import cross_val_score, KFold\n",
    "import numpy as np\n",
    "from sklearn.utils import resample\n",
    "from sklearn.metrics import f1_score\n",
    "from statistics import mean \n",
    "import time\n",
    "import torch\n",
    "import contractions\n",
    "from nltk.corpus import wordnet\n",
    "from nltk.tokenize import word_tokenize\n",
    "from nltk.stem import WordNetLemmatizer\n",
    "from transformers import DistilBertForSequenceClassification,AdamW,get_linear_schedule_with_warmup\n",
    "from transformers import AutoTokenizer\n",
    "from torch.utils.data import DataLoader, Dataset\n",
    "import torch.nn as nn\n",
    "import re\n",
    "from nltk.corpus import stopwords\n",
    "import string\n",
    "from sklearn.metrics import classification_report\n"
   ]
  },
  {
   "attachments": {},
   "cell_type": "markdown",
   "metadata": {},
   "source": [
    "### Load train data"
   ]
  },
  {
   "cell_type": "code",
   "execution_count": 2,
   "metadata": {},
   "outputs": [
    {
     "data": {
      "text/html": [
       "<div>\n",
       "<style scoped>\n",
       "    .dataframe tbody tr th:only-of-type {\n",
       "        vertical-align: middle;\n",
       "    }\n",
       "\n",
       "    .dataframe tbody tr th {\n",
       "        vertical-align: top;\n",
       "    }\n",
       "\n",
       "    .dataframe thead th {\n",
       "        text-align: right;\n",
       "    }\n",
       "</style>\n",
       "<table border=\"1\" class=\"dataframe\">\n",
       "  <thead>\n",
       "    <tr style=\"text-align: right;\">\n",
       "      <th></th>\n",
       "      <th>idx</th>\n",
       "      <th>title</th>\n",
       "      <th>stars</th>\n",
       "      <th>text</th>\n",
       "      <th>cleaned_text</th>\n",
       "    </tr>\n",
       "  </thead>\n",
       "  <tbody>\n",
       "    <tr>\n",
       "      <th>0</th>\n",
       "      <td>1</td>\n",
       "      <td>88 Seafood</td>\n",
       "      <td>5.0</td>\n",
       "      <td>This was my first time eating here. I can tell...</td>\n",
       "      <td>this be my first time eat here i can tell you ...</td>\n",
       "    </tr>\n",
       "    <tr>\n",
       "      <th>1</th>\n",
       "      <td>2</td>\n",
       "      <td>88 Seafood</td>\n",
       "      <td>4.0</td>\n",
       "      <td>Considering that the dining area is next to a ...</td>\n",
       "      <td>consider that the din area be next to a prawn ...</td>\n",
       "    </tr>\n",
       "    <tr>\n",
       "      <th>2</th>\n",
       "      <td>3</td>\n",
       "      <td>88 Seafood</td>\n",
       "      <td>4.0</td>\n",
       "      <td>1st time came was 5 months ago. A decent Cze C...</td>\n",
       "      <td>st time come be month ago a decent cze char or...</td>\n",
       "    </tr>\n",
       "    <tr>\n",
       "      <th>3</th>\n",
       "      <td>4</td>\n",
       "      <td>88 Seafood</td>\n",
       "      <td>5.0</td>\n",
       "      <td>First time experiencing prawning, we spend a g...</td>\n",
       "      <td>first time experience prawn we spend a good hr...</td>\n",
       "    </tr>\n",
       "    <tr>\n",
       "      <th>4</th>\n",
       "      <td>5</td>\n",
       "      <td>88 Seafood</td>\n",
       "      <td>4.0</td>\n",
       "      <td>Outgoing visit on Saturday, September 2023. Fi...</td>\n",
       "      <td>outgo visit on saturday september fishing for ...</td>\n",
       "    </tr>\n",
       "  </tbody>\n",
       "</table>\n",
       "</div>"
      ],
      "text/plain": [
       "   idx       title  stars                                               text  \\\n",
       "0    1  88 Seafood    5.0  This was my first time eating here. I can tell...   \n",
       "1    2  88 Seafood    4.0  Considering that the dining area is next to a ...   \n",
       "2    3  88 Seafood    4.0  1st time came was 5 months ago. A decent Cze C...   \n",
       "3    4  88 Seafood    5.0  First time experiencing prawning, we spend a g...   \n",
       "4    5  88 Seafood    4.0  Outgoing visit on Saturday, September 2023. Fi...   \n",
       "\n",
       "                                        cleaned_text  \n",
       "0  this be my first time eat here i can tell you ...  \n",
       "1  consider that the din area be next to a prawn ...  \n",
       "2  st time come be month ago a decent cze char or...  \n",
       "3  first time experience prawn we spend a good hr...  \n",
       "4  outgo visit on saturday september fishing for ...  "
      ]
     },
     "execution_count": 2,
     "metadata": {},
     "output_type": "execute_result"
    }
   ],
   "source": [
    "#Read in cleaned train data\n",
    "train_df = pd.read_csv('train_data_with_stop.csv')\n",
    "train_df = train_df.dropna(subset=['cleaned_text']).reset_index(drop=True)\n",
    "#train_df['polarity_score'] = train_df['polarity_score'].astype(float)\n",
    "#train_df['subjectivity_score'] = train_df['subjectivity_score'].astype(float)\n",
    "train_df['stars'] = train_df['stars'].astype(float)\n",
    "train_df['text'] = train_df['text'].astype(str)\n",
    "\n",
    "\n",
    "train_df.head()"
   ]
  },
  {
   "cell_type": "code",
   "execution_count": 30,
   "metadata": {},
   "outputs": [
    {
     "data": {
      "text/plain": [
       "<Axes: xlabel='stars', ylabel='count'>"
      ]
     },
     "execution_count": 30,
     "metadata": {},
     "output_type": "execute_result"
    },
    {
     "data": {
      "image/png": "[encoded data removed]",
      "text/plain": [
       "<Figure size 640x480 with 1 Axes>"
      ]
     },
     "metadata": {},
     "output_type": "display_data"
    }
   ],
   "source": [
    "sns.countplot(train_df, x=\"stars\")"
   ]
  },
  {
   "attachments": {},
   "cell_type": "markdown",
   "metadata": {},
   "source": [
    "### Assign polarity to train data\n",
    "- Stars 4 and above, positive\n",
    "-1,2,3 stars negative\n"
   ]
  },
  {
   "cell_type": "code",
   "execution_count": 16,
   "metadata": {},
   "outputs": [],
   "source": [
    "#assign positive/negative labels method 1\n",
    "train_df['sentiment'] = 0\n",
    "train_df.loc[train_df['stars'] >=4, 'sentiment'] = 1 #positive"
   ]
  },
  {
   "cell_type": "code",
   "execution_count": 17,
   "metadata": {},
   "outputs": [],
   "source": [
    "train_df_X = train_df['cleaned_text']\n",
    "train_df_y = train_df['sentiment']"
   ]
  },
  {
   "attachments": {},
   "cell_type": "markdown",
   "metadata": {},
   "source": [
    "### Classification"
   ]
  },
  {
   "cell_type": "code",
   "execution_count": 2,
   "metadata": {},
   "outputs": [
    {
     "name": "stdout",
     "output_type": "stream",
     "text": [
      "cuda:0\n",
      "12.1\n"
     ]
    }
   ],
   "source": [
    "device = torch.device(\"cuda:0\" if torch.cuda.is_available() else \"cpu\")\n",
    "print(device)\n",
    "print(torch.version.cuda)"
   ]
  },
  {
   "cell_type": "code",
   "execution_count": 62,
   "metadata": {},
   "outputs": [
    {
     "ename": "RuntimeError",
     "evalue": "CUDA error: device-side assert triggered\nCUDA kernel errors might be asynchronously reported at some other API call, so the stacktrace below might be incorrect.\nFor debugging consider passing CUDA_LAUNCH_BLOCKING=1.\nCompile with `TORCH_USE_CUDA_DSA` to enable device-side assertions.\n",
     "output_type": "error",
     "traceback": [
      "\u001b[1;31m---------------------------------------------------------------------------\u001b[0m",
      "\u001b[1;31mRuntimeError\u001b[0m                              Traceback (most recent call last)",
      "Cell \u001b[1;32mIn[62], line 2\u001b[0m\n\u001b[0;32m      1\u001b[0m \u001b[38;5;28;01mimport\u001b[39;00m \u001b[38;5;21;01mgc\u001b[39;00m\n\u001b[1;32m----> 2\u001b[0m \u001b[43mtorch\u001b[49m\u001b[38;5;241;43m.\u001b[39;49m\u001b[43mcuda\u001b[49m\u001b[38;5;241;43m.\u001b[39;49m\u001b[43mempty_cache\u001b[49m\u001b[43m(\u001b[49m\u001b[43m)\u001b[49m\n\u001b[0;32m      3\u001b[0m gc\u001b[38;5;241m.\u001b[39mcollect()\n\u001b[0;32m      4\u001b[0m \u001b[38;5;28;01mdel\u001b[39;00m model\n",
      "File \u001b[1;32mc:\\Users\\limju\\anaconda3\\lib\\site-packages\\torch\\cuda\\memory.py:159\u001b[0m, in \u001b[0;36mempty_cache\u001b[1;34m()\u001b[0m\n\u001b[0;32m    148\u001b[0m \u001b[38;5;124mr\u001b[39m\u001b[38;5;124;03m\"\"\"Releases all unoccupied cached memory currently held by the caching\u001b[39;00m\n\u001b[0;32m    149\u001b[0m \u001b[38;5;124;03mallocator so that those can be used in other GPU application and visible in\u001b[39;00m\n\u001b[0;32m    150\u001b[0m \u001b[38;5;124;03m`nvidia-smi`.\u001b[39;00m\n\u001b[1;32m   (...)\u001b[0m\n\u001b[0;32m    156\u001b[0m \u001b[38;5;124;03m    more details about GPU memory management.\u001b[39;00m\n\u001b[0;32m    157\u001b[0m \u001b[38;5;124;03m\"\"\"\u001b[39;00m\n\u001b[0;32m    158\u001b[0m \u001b[38;5;28;01mif\u001b[39;00m is_initialized():\n\u001b[1;32m--> 159\u001b[0m     \u001b[43mtorch\u001b[49m\u001b[38;5;241;43m.\u001b[39;49m\u001b[43m_C\u001b[49m\u001b[38;5;241;43m.\u001b[39;49m\u001b[43m_cuda_emptyCache\u001b[49m\u001b[43m(\u001b[49m\u001b[43m)\u001b[49m\n",
      "\u001b[1;31mRuntimeError\u001b[0m: CUDA error: device-side assert triggered\nCUDA kernel errors might be asynchronously reported at some other API call, so the stacktrace below might be incorrect.\nFor debugging consider passing CUDA_LAUNCH_BLOCKING=1.\nCompile with `TORCH_USE_CUDA_DSA` to enable device-side assertions.\n"
     ]
    }
   ],
   "source": [
    "import gc\n",
    "torch.cuda.empty_cache()\n",
    "gc.collect()\n",
    "del model\n"
   ]
  },
  {
   "attachments": {},
   "cell_type": "markdown",
   "metadata": {},
   "source": [
    "### Training DistilBERT"
   ]
  },
  {
   "cell_type": "code",
   "execution_count": 6,
   "metadata": {},
   "outputs": [
    {
     "name": "stdout",
     "output_type": "stream",
     "text": [
      "(7682,) (1921,)\n"
     ]
    }
   ],
   "source": [
    "train_df_X, val_df_X, train_df_y, val_df_y = train_test_split(train_df_X,train_df_y, test_size=0.2, random_state=0)\n",
    "print(train_df_X.shape, val_df_X.shape)"
   ]
  },
  {
   "cell_type": "code",
   "execution_count": 3,
   "metadata": {},
   "outputs": [],
   "source": [
    "# Define a custom dataset for sentiment analysis\n",
    "class SentimentDataset(Dataset):\n",
    "    def __init__(self, texts, labels, tokenizer, max_length):\n",
    "        self.texts = texts\n",
    "        self.labels = labels\n",
    "        self.tokenizer = tokenizer\n",
    "        self.max_length = max_length\n",
    "\n",
    "    def __len__(self):\n",
    "        return len(self.texts)\n",
    "\n",
    "    def __getitem__(self, idx):\n",
    "        text = str(self.texts[idx])\n",
    "        label = int(self.labels[idx])\n",
    "\n",
    "        encoding = self.tokenizer.encode_plus(\n",
    "            text,\n",
    "            add_special_tokens=True, #[CLS], [SEP]\n",
    "            max_length=self.max_length,\n",
    "            return_token_type_ids=False,\n",
    "            padding='max_length',\n",
    "            return_attention_mask=True,\n",
    "            return_tensors='pt',\n",
    "            truncation=True,\n",
    "        )\n",
    "\n",
    "        return {\n",
    "            'input_ids': encoding['input_ids'].flatten(),\n",
    "            'attention_mask': encoding['attention_mask'].flatten(),\n",
    "            'labels': torch.tensor(label, dtype=torch.long)\n",
    "        }\n",
    "def create_data_loader(df_X, df_y, tokenizer, max_len, batch_size):\n",
    "    ds = SentimentDataset(\n",
    "        texts=df_X.to_numpy(),\n",
    "        labels=df_y.to_numpy(),\n",
    "        tokenizer=tokenizer,\n",
    "        max_length=max_len\n",
    "    )\n",
    "    return DataLoader(ds,batch_size=batch_size,num_workers=0)\n",
    "\n"
   ]
  },
  {
   "cell_type": "code",
   "execution_count": 8,
   "metadata": {},
   "outputs": [
    {
     "name": "stderr",
     "output_type": "stream",
     "text": [
      "Some weights of the model checkpoint at distilbert-base-uncased were not used when initializing DistilBertForSequenceClassification: ['vocab_layer_norm.bias', 'vocab_transform.bias', 'vocab_projector.bias', 'vocab_layer_norm.weight', 'vocab_projector.weight', 'vocab_transform.weight']\n",
      "- This IS expected if you are initializing DistilBertForSequenceClassification from the checkpoint of a model trained on another task or with another architecture (e.g. initializing a BertForSequenceClassification model from a BertForPreTraining model).\n",
      "- This IS NOT expected if you are initializing DistilBertForSequenceClassification from the checkpoint of a model that you expect to be exactly identical (initializing a BertForSequenceClassification model from a BertForSequenceClassification model).\n",
      "Some weights of DistilBertForSequenceClassification were not initialized from the model checkpoint at distilbert-base-uncased and are newly initialized: ['classifier.bias', 'pre_classifier.weight', 'pre_classifier.bias', 'classifier.weight']\n",
      "You should probably TRAIN this model on a down-stream task to be able to use it for predictions and inference.\n"
     ]
    }
   ],
   "source": [
    "# Load the pre-trained BERT model and tokenizer\n",
    "model_name = 'distilbert-base-uncased'\n",
    "tokenizer = AutoTokenizer.from_pretrained(model_name, use_fast=True)\n",
    "model = DistilBertForSequenceClassification.from_pretrained(model_name, num_labels=2).to(device)  # 2 for binary classification"
   ]
  },
  {
   "cell_type": "code",
   "execution_count": 9,
   "metadata": {},
   "outputs": [],
   "source": [
    "train_loader = create_data_loader(train_df_X,train_df_y, tokenizer, 512, 8)\n",
    "val_loader= create_data_loader(val_df_X, val_df_y, tokenizer,512, 4)"
   ]
  },
  {
   "cell_type": "code",
   "execution_count": 10,
   "metadata": {},
   "outputs": [
    {
     "name": "stderr",
     "output_type": "stream",
     "text": [
      "c:\\Users\\limju\\anaconda3\\lib\\site-packages\\transformers\\optimization.py:306: FutureWarning: This implementation of AdamW is deprecated and will be removed in a future version. Use the PyTorch implementation torch.optim.AdamW instead, or set `no_deprecation_warning=True` to disable this warning\n",
      "  warnings.warn(\n"
     ]
    },
    {
     "name": "stdout",
     "output_type": "stream",
     "text": [
      "Iteration 0, trainloss = 0.7001364231109619\n",
      "Time for 1 epoch: 258.4634644985199\n",
      "End of Epoch 1, trainloss=0.6442394805142729, valloss=0.4321166046366498 trainf1=0.8302871060680979, valf1=0.8382288972879783\n",
      "Iteration 0, trainloss = 0.3494257926940918\n",
      "Time for 1 epoch: 256.1168715953827\n",
      "End of Epoch 2, trainloss=0.4012371032068452, valloss=0.41189160873327335 trainf1=0.9188414820532831, valf1=0.8702152565612431\n",
      "Iteration 0, trainloss = 0.026891279965639114\n",
      "Time for 1 epoch: 259.2119243144989\n",
      "End of Epoch 3, trainloss=0.24086097047144833, valloss=0.45831906059495486 trainf1=0.9604786405964559, valf1=0.8766745282413222\n",
      "Iteration 0, trainloss = 0.0018441793508827686\n",
      "Time for 1 epoch: 255.6474528312683\n",
      "End of Epoch 4, trainloss=0.13094951583428566, valloss=0.5781859224675496 trainf1=0.9804557925115771, valf1=0.8726295780596744\n",
      "Iteration 0, trainloss = 0.00045007053995504975\n",
      "Time for 1 epoch: 254.95154356956482\n",
      "End of Epoch 5, trainloss=0.08589878581311088, valloss=0.6232886644776534 trainf1=0.9882992345249615, valf1=0.8718907246130113\n",
      "Iteration 0, trainloss = 0.00027057493571192026\n",
      "Time for 1 epoch: 254.4232587814331\n",
      "End of Epoch 6, trainloss=0.05318180543695225, valloss=0.6278714879288321 trainf1=0.9929215484209579, valf1=0.8716489864725957\n"
     ]
    }
   ],
   "source": [
    "# Set up the optimizer and training parameters\n",
    "   \n",
    "num_epochs = 6\n",
    "optimizer = AdamW(model.parameters(), lr=2e-5, correct_bias=False)\n",
    "loss_fn = nn.CrossEntropyLoss()\n",
    "total_steps = len(train_loader) * num_epochs\n",
    "scheduler = get_linear_schedule_with_warmup(\n",
    "  optimizer,\n",
    "  num_warmup_steps=total_steps*0.1,\n",
    "  num_training_steps=total_steps\n",
    ")\n",
    "\n",
    "\n",
    "trainloss=[]\n",
    "trainacc=[]\n",
    "trainf1=[]\n",
    "valloss=[]\n",
    "valacc=[]\n",
    "valf1=[]\n",
    "\n",
    "def train_step(model, num_epochs, train_loader, val_loader, loss_fn, optimizer):\n",
    "    #best_accuracy=0\n",
    "    best_f1=0\n",
    "    best_epoch=0\n",
    "    for epoch in range(num_epochs):\n",
    "        runningtrainloss=0\n",
    "        runningtrainacc=0\n",
    "        runningtrainf1=0\n",
    "        model.train() #put model in training mode\n",
    "        start=time.time()\n",
    "        all_ref_labels=[]\n",
    "        all_pred_labels=[]\n",
    "        for i, batch in enumerate(train_loader):\n",
    "            input_ids = batch['input_ids'].to(device)\n",
    "            attention_mask = batch['attention_mask'].to(device)\n",
    "            labels = batch['labels'].to(device)\n",
    "            all_ref_labels.extend(batch['labels'].cpu().numpy())\n",
    "            outputs = model(input_ids, attention_mask=attention_mask, labels=labels)\n",
    "            loss = outputs.loss\n",
    "            \n",
    "            optimizer.zero_grad()\n",
    "            loss.backward()\n",
    "            nn.utils.clip_grad_norm_(model.parameters(), max_norm=1.0) #prevent exploding gradient\n",
    "            optimizer.step()\n",
    "            scheduler.step()\n",
    "            with torch.no_grad():\n",
    "                runningtrainloss+=loss.item()\n",
    "                #runningtrainacc+=accuracy_score(np.argmax(outputs['logits'].detach().cpu().numpy(), axis=1), labels.detach().cpu().numpy())\n",
    "                all_pred_labels.extend(np.argmax(outputs['logits'].detach().cpu().numpy(), axis=1))\n",
    "                if i%1000==0:\n",
    "                    print(f\"Iteration {i}, trainloss = {loss.item()}\")\n",
    "        \n",
    "        trainloss.append(runningtrainloss/(i+1))\n",
    "        #trainacc.append(runningtrainacc/(i+1))\n",
    "        trainf1.append(f1_score(all_ref_labels, all_pred_labels, average='macro'))\n",
    "        end=time.time()\n",
    "        model.eval() #put model in eval mode\n",
    "        with torch.no_grad():\n",
    "            runningvalloss=0\n",
    "            #runningvalacc=0\n",
    "            all_ref_labels=[]\n",
    "            all_pred_labels=[]\n",
    "            for i, batch in enumerate(val_loader):\n",
    "                input_ids = batch['input_ids'].to(device)\n",
    "                attention_mask = batch['attention_mask'].to(device)\n",
    "                labels = batch['labels'].to(device)\n",
    "                all_ref_labels.extend(batch['labels'].cpu().numpy())\n",
    "\n",
    "                # Get model ouptuts\n",
    "                outputs = model(input_ids=input_ids,attention_mask=attention_mask, labels=labels)\n",
    "                \n",
    "                runningvalloss+=outputs.loss.item()\n",
    "                #runningvalacc+=accuracy_score(np.argmax(outputs['logits'].detach().cpu().numpy(), axis=1), labels.detach().cpu().numpy())\n",
    "                all_pred_labels.extend(np.argmax(outputs['logits'].detach().cpu().numpy(), axis=1))\n",
    "\n",
    "            epvalf1= f1_score(all_ref_labels, all_pred_labels, average='macro')\n",
    "\n",
    "\n",
    "            valloss.append(runningvalloss/(i+1))\n",
    "            valf1.append(epvalf1)\n",
    "            if valf1[-1]>best_f1:\n",
    "                #model.save_pretrained(f'C:/Users/limju/Downloads/IR_BERTTraining/BERT_best_epoch_{epoch}')\n",
    "\n",
    "                #tokenizer.save_pretrained(f'C:/Users/limju/Downloads/IR_BERTTraining/Tokenizer_best_epoch_{epoch}')\n",
    "                best_epoch=epoch\n",
    "        model.save_pretrained(f'C:/Users/limju/Downloads/IR_BERTTraining/BERT_epoch_{epoch}')\n",
    "        tokenizer.save_pretrained(f\"C:/Users/limju/Downloads/IR_BERTTraining/Tokenizer_epoch_{epoch}\")\n",
    "        print(f\"Time for 1 epoch: {end-start}\")\n",
    "        print(f\"End of Epoch {epoch+1}, trainloss={runningtrainloss/(i+1)}, valloss={runningvalloss/(i+1)} trainf1={trainf1[-1]}, valf1={epvalf1}\")\n",
    "    return best_epoch, trainloss,trainacc,valloss,valacc\n",
    "\n",
    "best_epoch, trainloss,trainacc,valloss,valacc = train_step(model, num_epochs, train_loader, val_loader, loss_fn, optimizer)"
   ]
  },
  {
   "cell_type": "code",
   "execution_count": 15,
   "metadata": {},
   "outputs": [
    {
     "data": {
      "image/png": "[encoded data removed]",
      "text/plain": [
       "<Figure size 1000x400 with 2 Axes>"
      ]
     },
     "metadata": {},
     "output_type": "display_data"
    }
   ],
   "source": [
    "import matplotlib.pyplot as plt\n",
    "epochs = [1, 2, 3, 4,5,6]  # List of epoch numbers\n",
    "\n",
    "# Plot loss\n",
    "plt.figure(figsize=(10, 4))\n",
    "plt.subplot(1, 2, 1)\n",
    "plt.plot(epochs, trainloss, marker='o', linestyle='-', label='Train')\n",
    "plt.plot(epochs, valloss, marker='o', linestyle='-', label='Val')\n",
    "plt.title('Loss')\n",
    "plt.xlabel('Epoch')\n",
    "plt.ylabel('Loss')\n",
    "plt.legend()\n",
    "\n",
    "# Plot macro f1\n",
    "plt.subplot(1, 2, 2)\n",
    "plt.plot(epochs, trainf1, marker='o', linestyle='-',label='Train')\n",
    "plt.plot(epochs, valf1, marker='o', linestyle='-', label='Val')\n",
    "plt.title('Macro F1')\n",
    "plt.xlabel('Epoch')\n",
    "plt.ylabel('Macro F1')\n",
    "\n",
    "# Display the plots\n",
    "plt.legend()\n",
    "plt.tight_layout()\n",
    "plt.show()"
   ]
  },
  {
   "cell_type": "markdown",
   "metadata": {},
   "source": [
    "### Testing DistilBERT on test split"
   ]
  },
  {
   "cell_type": "code",
   "execution_count": 5,
   "metadata": {},
   "outputs": [],
   "source": [
    "# Remove emojis \n",
    "def remove_emojis(data):\n",
    "    emoj = re.compile(\"[\"\n",
    "        u\"\\U0001F600-\\U0001F64F\"  \n",
    "        u\"\\U0001F300-\\U0001F5FF\"  \n",
    "        u\"\\U0001F680-\\U0001F6FF\"  \n",
    "        u\"\\U0001F1E0-\\U0001F1FF\" \n",
    "        u\"\\U00002500-\\U00002BEF\"  \n",
    "        u\"\\U00002702-\\U000027B0\"\n",
    "        u\"\\U00002702-\\U000027B0\"\n",
    "        u\"\\U000024C2-\\U0001F251\"\n",
    "        u\"\\U0001f926-\\U0001f937\"\n",
    "        u\"\\U00010000-\\U0010ffff\"\n",
    "        u\"\\u2640-\\u2642\" \n",
    "        u\"\\u2600-\\u2B55\"\n",
    "        u\"\\u200d\"\n",
    "        u\"\\u23cf\"\n",
    "        u\"\\u23e9\"\n",
    "        u\"\\u231a\"\n",
    "        u\"\\ufe0f\"  \n",
    "        u\"\\u3030\"\n",
    "                      \"]+\", re.UNICODE)\n",
    "    return re.sub(emoj, '', data)\n",
    "\n",
    "def remove_stopwords(reviews):\n",
    "    STOPWORDS = set(stopwords.words('english'))\n",
    "    custom_stopwords = {'not', 'is', 'but'}\n",
    "    STOPWORDS -= custom_stopwords\n",
    "    if STOPWORDS is None:\n",
    "        STOPWORDS = set(stopwords.words('english'))\n",
    "    # Split the reviews into words and remove stopwords\n",
    "    words = reviews.split()\n",
    "    words_filtered = [word for word in words if word not in STOPWORDS]\n",
    "    \n",
    "    # Join the filtered words back into a string\n",
    "    filtered_reviews = ' '.join(words_filtered)\n",
    "    \n",
    "    return filtered_reviews\n",
    "\n",
    "def remove_extra_whitespace(reviews):\n",
    "    return \" \".join(reviews.split())\n",
    "\n",
    "def get_wordnet_pos(text):\n",
    "    # Map POS tag to first character lemmatize() accepts\n",
    "    tags = nltk.pos_tag(text)\n",
    "    tag_dict = {\"J\": wordnet.ADJ,\n",
    "                \"N\": wordnet.NOUN,\n",
    "                \"V\": wordnet.VERB,\n",
    "                \"R\": wordnet.ADV}\n",
    "    tags = [tag_dict.get(tag[1][0],  wordnet.NOUN) for tag in tags]\n",
    "    return tags\n",
    "\n",
    "def lemmaSentence(reviews):\n",
    "    lemmatizer = WordNetLemmatizer()\n",
    "    lemma_text = ''\n",
    "    tok_text = word_tokenize(reviews)\n",
    "    tags = get_wordnet_pos(tok_text)\n",
    "    for i in range(len(tok_text)):\n",
    "        lemma_text = lemma_text + ' ' + lemmatizer.lemmatize(tok_text[i], tags[i])\n",
    "    return lemma_text[1:]\n",
    "\n",
    "def lower_case(review):\n",
    "    return review.lower()\n",
    "\n",
    "# change contraction words such sa I'm = I am, shouldn't = should not\n",
    "def change_contractions(review):\n",
    "    \n",
    "    expanded_words = [contractions.fix(word) for word in review.split()]\n",
    "\n",
    "    expanded_review = ' '.join(expanded_words)\n",
    "    return expanded_review\n",
    "\n",
    "# Remove Punctuations\n",
    "def remove_punctuations(review):\n",
    "    \n",
    "    new_review = review.translate(str.maketrans('', '', string.punctuation))\n",
    "    return new_review\n",
    "\n",
    "# Remove numbers\n",
    "def remove_numbers(review):\n",
    "    \n",
    "    mapping = str.maketrans('', '', string.digits)\n",
    "    new_review = review.translate(mapping)\n",
    "    \n",
    "    return new_review\n",
    "\n",
    "\n",
    "def clean_text(data):\n",
    "\n",
    "    data = data.apply(lower_case)\n",
    "    data = data.apply(change_contractions)\n",
    "    data = data.apply(remove_emojis)\n",
    "    data = data.apply(remove_punctuations)\n",
    "    data = data.apply(remove_numbers)\n",
    "    data = data.apply(remove_stopwords)\n",
    "    data = data.apply(remove_extra_whitespace)\n",
    "    data = data.apply(lemmaSentence)\n",
    "    \n",
    "    return data\n",
    "\n",
    "def clean_text_withstopword(data):\n",
    "\n",
    "    data = data.apply(lower_case)\n",
    "    data = data.apply(change_contractions)\n",
    "    data = data.apply(remove_emojis)\n",
    "    data = data.apply(remove_punctuations)\n",
    "    data = data.apply(remove_numbers)\n",
    "    #data = data.apply(remove_stopwords)\n",
    "    data = data.apply(remove_extra_whitespace)\n",
    "    data = data.apply(lemmaSentence)\n",
    "    \n",
    "    return data"
   ]
  },
  {
   "cell_type": "code",
   "execution_count": 5,
   "metadata": {},
   "outputs": [],
   "source": [
    "#Load in test data\n",
    "testdf = pd.read_csv(\"eval.csv\")\n",
    "#preprocess test data\n",
    "testdf['cleaned_text'] = clean_text(testdf.text)\n",
    "def anno2binary(text):\n",
    "    if text=='POSITIVE':\n",
    "        return 1\n",
    "    else:\n",
    "        return 0\n",
    "testdf['Binary_anno'] = testdf.Polarity_Anno1.apply(anno2binary)"
   ]
  },
  {
   "cell_type": "code",
   "execution_count": 6,
   "metadata": {},
   "outputs": [],
   "source": [
    "# Load the trained BERT model and tokenizer\n",
    "tokenizer_name = r'C:\\Users\\limju\\Downloads\\IR_BERTTraining\\Tokenizer_epoch_3'\n",
    "model_name = r'C:\\Users\\limju\\Downloads\\IR_BERTTraining\\BERT_epoch_3'\n",
    "tokenizer = AutoTokenizer.from_pretrained(tokenizer_name, use_fast=True)\n",
    "model = DistilBertForSequenceClassification.from_pretrained(model_name, num_labels=2).to(device)  # 2 for binary classification"
   ]
  },
  {
   "cell_type": "code",
   "execution_count": 20,
   "metadata": {},
   "outputs": [],
   "source": [
    "test_loader= create_data_loader(testdf.cleaned_text, testdf.Binary_anno, tokenizer,512, 4)"
   ]
  },
  {
   "cell_type": "code",
   "execution_count": 7,
   "metadata": {},
   "outputs": [],
   "source": [
    "def evaluate(model, val_loader, device):\n",
    "    model.eval() #put model in eval mode\n",
    "    with torch.no_grad():\n",
    "        all_ref_labels=[]\n",
    "        all_pred_labels=[]\n",
    "        start=time.time()\n",
    "\n",
    "        for i, batch in enumerate(val_loader):\n",
    "            input_ids = batch['input_ids'].to(device)\n",
    "            attention_mask = batch['attention_mask'].to(device)\n",
    "            labels = batch['labels'].to(device)\n",
    "            all_ref_labels.extend(batch['labels'].cpu().numpy())\n",
    "\n",
    "            # Get model ouptuts\n",
    "            outputs = model(input_ids=input_ids,attention_mask=attention_mask, labels=labels)\n",
    "            \n",
    "            all_pred_labels.extend(np.argmax(outputs['logits'].detach().cpu().numpy(), axis=1))\n",
    "\n",
    "            del input_ids, attention_mask, labels\n",
    "        end = time.time()\n",
    "    t = end-start\n",
    "    return all_ref_labels,all_pred_labels,t"
   ]
  },
  {
   "cell_type": "code",
   "execution_count": 21,
   "metadata": {},
   "outputs": [
    {
     "ename": "RuntimeError",
     "evalue": "CUDA error: device-side assert triggered\nCUDA kernel errors might be asynchronously reported at some other API call, so the stacktrace below might be incorrect.\nFor debugging consider passing CUDA_LAUNCH_BLOCKING=1.\nCompile with `TORCH_USE_CUDA_DSA` to enable device-side assertions.\n",
     "output_type": "error",
     "traceback": [
      "\u001b[1;31m---------------------------------------------------------------------------\u001b[0m",
      "\u001b[1;31mRuntimeError\u001b[0m                              Traceback (most recent call last)",
      "Cell \u001b[1;32mIn[21], line 1\u001b[0m\n\u001b[1;32m----> 1\u001b[0m all_ref_labels,all_pred_labels,t \u001b[38;5;241m=\u001b[39m \u001b[43mevaluate\u001b[49m\u001b[43m(\u001b[49m\u001b[43mmodel\u001b[49m\u001b[43m,\u001b[49m\u001b[43m \u001b[49m\u001b[43mtest_loader\u001b[49m\u001b[43m)\u001b[49m\n",
      "Cell \u001b[1;32mIn[8], line 9\u001b[0m, in \u001b[0;36mevaluate\u001b[1;34m(model, val_loader)\u001b[0m\n\u001b[0;32m      6\u001b[0m start\u001b[38;5;241m=\u001b[39mtime\u001b[38;5;241m.\u001b[39mtime()\n\u001b[0;32m      8\u001b[0m \u001b[38;5;28;01mfor\u001b[39;00m i, batch \u001b[38;5;129;01min\u001b[39;00m \u001b[38;5;28menumerate\u001b[39m(val_loader):\n\u001b[1;32m----> 9\u001b[0m     input_ids \u001b[38;5;241m=\u001b[39m \u001b[43mbatch\u001b[49m\u001b[43m[\u001b[49m\u001b[38;5;124;43m'\u001b[39;49m\u001b[38;5;124;43minput_ids\u001b[39;49m\u001b[38;5;124;43m'\u001b[39;49m\u001b[43m]\u001b[49m\u001b[38;5;241;43m.\u001b[39;49m\u001b[43mto\u001b[49m\u001b[43m(\u001b[49m\u001b[43mdevice\u001b[49m\u001b[43m)\u001b[49m\n\u001b[0;32m     10\u001b[0m     attention_mask \u001b[38;5;241m=\u001b[39m batch[\u001b[38;5;124m'\u001b[39m\u001b[38;5;124mattention_mask\u001b[39m\u001b[38;5;124m'\u001b[39m]\u001b[38;5;241m.\u001b[39mto(device)\n\u001b[0;32m     11\u001b[0m     labels \u001b[38;5;241m=\u001b[39m batch[\u001b[38;5;124m'\u001b[39m\u001b[38;5;124mlabels\u001b[39m\u001b[38;5;124m'\u001b[39m]\u001b[38;5;241m.\u001b[39mto(device)\n",
      "\u001b[1;31mRuntimeError\u001b[0m: CUDA error: device-side assert triggered\nCUDA kernel errors might be asynchronously reported at some other API call, so the stacktrace below might be incorrect.\nFor debugging consider passing CUDA_LAUNCH_BLOCKING=1.\nCompile with `TORCH_USE_CUDA_DSA` to enable device-side assertions.\n"
     ]
    }
   ],
   "source": [
    "all_ref_labels,all_pred_labels,t = evaluate(model, test_loader, device)"
   ]
  },
  {
   "cell_type": "code",
   "execution_count": 10,
   "metadata": {},
   "outputs": [
    {
     "name": "stdout",
     "output_type": "stream",
     "text": [
      "              precision    recall  f1-score   support\n",
      "\n",
      "           0       0.73      0.89      0.80       220\n",
      "           1       0.97      0.91      0.94       848\n",
      "\n",
      "    accuracy                           0.91      1068\n",
      "   macro avg       0.85      0.90      0.87      1068\n",
      "weighted avg       0.92      0.91      0.91      1068\n",
      "\n"
     ]
    }
   ],
   "source": [
    "print(classification_report(all_ref_labels, all_pred_labels))"
   ]
  },
  {
   "cell_type": "code",
   "execution_count": 35,
   "metadata": {},
   "outputs": [
    {
     "data": {
      "text/plain": [
       "12.186556577682495"
      ]
     },
     "execution_count": 35,
     "metadata": {},
     "output_type": "execute_result"
    }
   ],
   "source": [
    "t"
   ]
  },
  {
   "cell_type": "markdown",
   "metadata": {},
   "source": [
    "### Inference on entire dataset"
   ]
  },
  {
   "cell_type": "code",
   "execution_count": 32,
   "metadata": {},
   "outputs": [],
   "source": [
    "import json\n",
    " \n",
    "# Opening JSON file\n",
    "f = open('docs_to_post.json')\n",
    " \n",
    "# returns JSON object as \n",
    "# a dictionary\n",
    "data = json.load(f)\n",
    " \n",
    "\n",
    "# Closing file\n",
    "f.close()"
   ]
  },
  {
   "cell_type": "code",
   "execution_count": 9,
   "metadata": {},
   "outputs": [
    {
     "data": {
      "text/plain": [
       "dict_keys(['restaurant', 'review_stars', 'review', 'publishedAtDate', 'likesCount', 'reviewer', 'reviewerNumberOfReviews', 'isLocalGuide', 'reviewContextMeal', 'reviewContextParking', 'reviewContextService', 'reviewDetailedRatingAtmosphere', 'reviewDetailedRatingFood', 'reviewDetailedRatingService', 'totalScore', 'reviewsCount', 'street', 'categoryName', 'address', 'neighborhood', 'LatLong', 'qualityScore'])"
      ]
     },
     "execution_count": 9,
     "metadata": {},
     "output_type": "execute_result"
    }
   ],
   "source": [
    "data.keys()"
   ]
  },
  {
   "cell_type": "code",
   "execution_count": 9,
   "metadata": {},
   "outputs": [],
   "source": [
    "all_reviews = []\n",
    "for i in data['review']:\n",
    "    all_reviews.append(data['review'][i])\n",
    "all_reviews_series = pd.Series(all_reviews) \n",
    "all_reviews_series = clean_text(all_reviews_series)"
   ]
  },
  {
   "cell_type": "code",
   "execution_count": 11,
   "metadata": {},
   "outputs": [],
   "source": [
    "data['review_stars']\n",
    "stars=[]\n",
    "for i in data['review_stars']:\n",
    "    stars.append(data['review_stars'][i])\n",
    "stars = pd.Series(stars)\n",
    "stars2= stars.copy()\n",
    "stars.loc[stars2 <4]=0\n",
    "stars.loc[stars2 >=4] = 1 #positive"
   ]
  },
  {
   "cell_type": "code",
   "execution_count": 12,
   "metadata": {},
   "outputs": [],
   "source": [
    "all_loader= create_data_loader(all_reviews_series, stars, tokenizer,512,2)"
   ]
  },
  {
   "cell_type": "code",
   "execution_count": 13,
   "metadata": {},
   "outputs": [],
   "source": [
    "all_ref_labels,all_pred_labels,t = evaluate(model, all_loader, device)"
   ]
  },
  {
   "cell_type": "code",
   "execution_count": 28,
   "metadata": {},
   "outputs": [],
   "source": [
    "all_pred_labels = [ int(x) for x in all_pred_labels ]"
   ]
  },
  {
   "cell_type": "code",
   "execution_count": 29,
   "metadata": {},
   "outputs": [],
   "source": [
    "res_dict = {}\n",
    "for i, pred in enumerate(all_pred_labels):\n",
    "    res_dict[i]=pred"
   ]
  },
  {
   "cell_type": "code",
   "execution_count": 30,
   "metadata": {},
   "outputs": [],
   "source": [
    "data['classPrediction'] = res_dict"
   ]
  },
  {
   "cell_type": "code",
   "execution_count": 31,
   "metadata": {},
   "outputs": [],
   "source": [
    "with open(\"updated_docs_to_post.json\", \"w\") as outfile: \n",
    "    json.dump(data, outfile)"
   ]
  },
  {
   "cell_type": "code",
   "execution_count": 39,
   "metadata": {},
   "outputs": [
    {
     "name": "stderr",
     "output_type": "stream",
     "text": [
      "C:\\Users\\limju\\AppData\\Local\\Temp\\ipykernel_16908\\755542211.py:1: DtypeWarning: Columns (62) have mixed types. Specify dtype option on import or set low_memory=False.\n",
      "  df = pd.read_csv(\"final_cleaned_reviews_J.csv\")\n"
     ]
    }
   ],
   "source": [
    "df = pd.read_csv(\"final_cleaned_reviews_J.csv\")"
   ]
  },
  {
   "cell_type": "code",
   "execution_count": 41,
   "metadata": {},
   "outputs": [],
   "source": [
    "df['classPrediction']= all_pred_labels"
   ]
  },
  {
   "cell_type": "code",
   "execution_count": 43,
   "metadata": {},
   "outputs": [],
   "source": [
    "df.to_csv(\"all_reviews_with_pred.csv\")"
   ]
  }
 ],
 "metadata": {
  "kernelspec": {
   "display_name": "base",
   "language": "python",
   "name": "python3"
  },
  "language_info": {
   "codemirror_mode": {
    "name": "ipython",
    "version": 3
   },
   "file_extension": ".py",
   "mimetype": "text/x-python",
   "name": "python",
   "nbconvert_exporter": "python",
   "pygments_lexer": "ipython3",
   "version": "3.10.9"
  },
  "orig_nbformat": 4
 },
 "nbformat": 4,
 "nbformat_minor": 2
}
